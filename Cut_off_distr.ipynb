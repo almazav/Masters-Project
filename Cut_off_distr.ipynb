{
  "nbformat": 4,
  "nbformat_minor": 0,
  "metadata": {
    "colab": {
      "name": "Cut_off_distr.ipynb",
      "provenance": [],
      "collapsed_sections": [],
      "mount_file_id": "1ib9lUNQtfCBf7isiWAgKzOFXgVmxUFuJ",
      "authorship_tag": "ABX9TyO0tDIPNrzKUnKuKekhB/IQ",
      "include_colab_link": true
    },
    "kernelspec": {
      "name": "python3",
      "display_name": "Python 3"
    },
    "language_info": {
      "name": "python"
    },
    "accelerator": "GPU"
  },
  "cells": [
    {
      "cell_type": "markdown",
      "metadata": {
        "id": "view-in-github",
        "colab_type": "text"
      },
      "source": [
        "<a href=\"https://colab.research.google.com/github/almazav/Masters-Project/blob/main/Cut_off_distr.ipynb\" target=\"_parent\"><img src=\"https://colab.research.google.com/assets/colab-badge.svg\" alt=\"Open In Colab\"/></a>"
      ]
    },
    {
      "cell_type": "code",
      "execution_count": null,
      "metadata": {
        "colab": {
          "base_uri": "https://localhost:8080/"
        },
        "id": "eImnIa5XHZIQ",
        "outputId": "4b7c82b8-984c-4c86-e3a0-ca70036521cf"
      },
      "outputs": [
        {
          "output_type": "stream",
          "name": "stdout",
          "text": [
            "Looking in indexes: https://pypi.org/simple, https://us-python.pkg.dev/colab-wheels/public/simple/\n",
            "Collecting trackml\n",
            "  Downloading trackml-0.1.12-py3-none-any.whl (9.2 kB)\n",
            "Requirement already satisfied: requests>=2.18.4 in /usr/local/lib/python3.7/dist-packages (from trackml) (2.23.0)\n",
            "Collecting websocket-client>=0.44.0\n",
            "  Downloading websocket_client-1.3.2-py3-none-any.whl (54 kB)\n",
            "\u001b[K     |████████████████████████████████| 54 kB 2.0 MB/s \n",
            "\u001b[?25hRequirement already satisfied: urllib3!=1.25.0,!=1.25.1,<1.26,>=1.21.1 in /usr/local/lib/python3.7/dist-packages (from requests>=2.18.4->trackml) (1.24.3)\n",
            "Requirement already satisfied: idna<3,>=2.5 in /usr/local/lib/python3.7/dist-packages (from requests>=2.18.4->trackml) (2.10)\n",
            "Requirement already satisfied: certifi>=2017.4.17 in /usr/local/lib/python3.7/dist-packages (from requests>=2.18.4->trackml) (2022.5.18.1)\n",
            "Requirement already satisfied: chardet<4,>=3.0.2 in /usr/local/lib/python3.7/dist-packages (from requests>=2.18.4->trackml) (3.0.4)\n",
            "Installing collected packages: websocket-client, trackml\n",
            "Successfully installed trackml-0.1.12 websocket-client-1.3.2\n"
          ]
        }
      ],
      "source": [
        "pip install trackml"
      ]
    },
    {
      "cell_type": "code",
      "source": [
        "pip install --user git+https://github.com/LAL/trackml-library"
      ],
      "metadata": {
        "colab": {
          "base_uri": "https://localhost:8080/"
        },
        "id": "eFleNS22HnBL",
        "outputId": "5831c950-ab1d-450a-d636-ff8399f61e1e"
      },
      "execution_count": null,
      "outputs": [
        {
          "output_type": "stream",
          "name": "stdout",
          "text": [
            "Looking in indexes: https://pypi.org/simple, https://us-python.pkg.dev/colab-wheels/public/simple/\n",
            "Collecting git+https://github.com/LAL/trackml-library\n",
            "  Cloning https://github.com/LAL/trackml-library to /tmp/pip-req-build-3auh0ocy\n",
            "  Running command git clone -q https://github.com/LAL/trackml-library /tmp/pip-req-build-3auh0ocy\n",
            "Requirement already satisfied: numpy in /usr/local/lib/python3.7/dist-packages (from trackml==3) (1.21.6)\n",
            "Requirement already satisfied: pandas>=0.21.0 in /usr/local/lib/python3.7/dist-packages (from trackml==3) (1.3.5)\n",
            "Requirement already satisfied: python-dateutil>=2.7.3 in /usr/local/lib/python3.7/dist-packages (from pandas>=0.21.0->trackml==3) (2.8.2)\n",
            "Requirement already satisfied: pytz>=2017.3 in /usr/local/lib/python3.7/dist-packages (from pandas>=0.21.0->trackml==3) (2022.1)\n",
            "Requirement already satisfied: six>=1.5 in /usr/local/lib/python3.7/dist-packages (from python-dateutil>=2.7.3->pandas>=0.21.0->trackml==3) (1.15.0)\n",
            "Building wheels for collected packages: trackml\n",
            "  Building wheel for trackml (setup.py) ... \u001b[?25l\u001b[?25hdone\n",
            "  Created wheel for trackml: filename=trackml-3-py2.py3-none-any.whl size=13527 sha256=543c11d61df470cc80de75b0c4244cac663dc72ac956fba0068221e515616bce\n",
            "  Stored in directory: /tmp/pip-ephem-wheel-cache-g3jgmxzo/wheels/77/4f/dc/4faf131b620e3c8dd5a6cf8ecd61e4ef0fb59b6e1f69fb9c6e\n",
            "Successfully built trackml\n",
            "Installing collected packages: trackml\n",
            "Successfully installed trackml-3\n"
          ]
        }
      ]
    },
    {
      "cell_type": "code",
      "source": [
        "from google.colab import drive\n",
        "drive.mount('/content/gdrive')\n",
        "\n",
        "import numpy as np \n",
        "import pandas as pd\n",
        "import trackml.dataset\n",
        "import sys    \n",
        "path_to_module = '/content/gdrive/MyDrive/Colab Notebooks'\n",
        "sys.path.append(path_to_module)\n",
        "from data_preprocess import *\n",
        "import time\n",
        "import matplotlib.pyplot as plt\n",
        "from matplotlib.patches import ConnectionPatch\n",
        "from xgboost import XGBClassifier\n",
        "from sklearn.model_selection import train_test_split\n",
        "from sklearn.metrics import accuracy_score\n",
        "from imblearn.under_sampling import RandomUnderSampler\n",
        "from sklearn.neural_network import MLPClassifier\n",
        "from sklearn.metrics import confusion_matrix, classification_report\n",
        "\n",
        "\n",
        "import torch\n",
        "import torch.nn as nn\n",
        "import torch.optim as optim\n",
        "from torch.utils.data import Dataset, DataLoader"
      ],
      "metadata": {
        "id": "1F-iESdbHqbD",
        "colab": {
          "base_uri": "https://localhost:8080/"
        },
        "outputId": "24fd83cb-43ab-4ee7-c773-a4f37fdb36fd"
      },
      "execution_count": null,
      "outputs": [
        {
          "output_type": "stream",
          "name": "stdout",
          "text": [
            "Mounted at /content/gdrive\n"
          ]
        }
      ]
    },
    {
      "cell_type": "code",
      "source": [
        "#plot parameters\n",
        "FIGSIZE = (14,7)\n",
        "FIGSIZE2 = (20,7)\n",
        "FIG_TITLE = 22\n",
        "FIG_AXIS = 14\n",
        "FIG_LEGEND = 12"
      ],
      "metadata": {
        "id": "WUWfWeEPWi9H"
      },
      "execution_count": null,
      "outputs": []
    },
    {
      "cell_type": "markdown",
      "source": [
        "# Read Data"
      ],
      "metadata": {
        "id": "GWiM5NP5KCjT"
      }
    },
    {
      "cell_type": "code",
      "source": [
        "#read data \n",
        "hits, particles, truth = read_all_data(1000,1004)  \n",
        "df = merge_dfs(hits, particles, truth)"
      ],
      "metadata": {
        "colab": {
          "base_uri": "https://localhost:8080/"
        },
        "id": "DGs0FZ1kH8Z6",
        "outputId": "2f16ad9d-6b33-48a0-aff8-a4f2e0d4d718"
      },
      "execution_count": null,
      "outputs": [
        {
          "output_type": "stream",
          "name": "stdout",
          "text": [
            "... read data completed in 1.2084438800811768 seconds\n",
            "... merge df completed in 0.2617621421813965 seconds\n"
          ]
        }
      ]
    },
    {
      "cell_type": "code",
      "source": [
        "df.head()"
      ],
      "metadata": {
        "colab": {
          "base_uri": "https://localhost:8080/",
          "height": 235
        },
        "id": "n-bnio_yTZ-B",
        "outputId": "98702905-2775-4b31-e3b9-52104272fb9a"
      },
      "execution_count": null,
      "outputs": [
        {
          "output_type": "execute_result",
          "data": {
            "text/plain": [
              "   hit_id_H        particle_id         tx        ty      tz       tpx  \\\n",
              "0         2  22525763437723648 -55.338501  0.630805 -1502.5 -0.570605   \n",
              "1      1420  22525763437723648 -55.154400  0.621779 -1497.5 -0.569794   \n",
              "2      1460  22525763437723648 -47.988098  0.315591 -1302.5 -0.568883   \n",
              "3      3170  22525763437723648 -47.804100  0.308733 -1297.5 -0.571445   \n",
              "4      3234  22525763437723648 -40.626099  0.087326 -1102.5 -0.569940   \n",
              "\n",
              "        tpy      tpz    weight  new_hit_id  ...  event_id    new_particle_id  \\\n",
              "0  0.028390 -15.4922  0.000010           1  ...      1000  22525763437724648   \n",
              "1  0.027264 -15.4928  0.000008        1419  ...      1000  22525763437724648   \n",
              "2  0.021994 -15.4929  0.000006        1459  ...      1000  22525763437724648   \n",
              "3  0.020847 -15.4933  0.000005        3169  ...      1000  22525763437724648   \n",
              "4  0.015274 -15.4934  0.000005        3233  ...      1000  22525763437724648   \n",
              "\n",
              "         vx        vy       vz       px        py      pz  q  nhits  \n",
              "0 -0.015802  0.006381  1.16279 -0.56967 -0.011187 -15.496  1     10  \n",
              "1 -0.015802  0.006381  1.16279 -0.56967 -0.011187 -15.496  1     10  \n",
              "2 -0.015802  0.006381  1.16279 -0.56967 -0.011187 -15.496  1     10  \n",
              "3 -0.015802  0.006381  1.16279 -0.56967 -0.011187 -15.496  1     10  \n",
              "4 -0.015802  0.006381  1.16279 -0.56967 -0.011187 -15.496  1     10  \n",
              "\n",
              "[5 rows x 27 columns]"
            ],
            "text/html": [
              "\n",
              "  <div id=\"df-e0852cfd-216a-476a-8624-3809ed4f274d\">\n",
              "    <div class=\"colab-df-container\">\n",
              "      <div>\n",
              "<style scoped>\n",
              "    .dataframe tbody tr th:only-of-type {\n",
              "        vertical-align: middle;\n",
              "    }\n",
              "\n",
              "    .dataframe tbody tr th {\n",
              "        vertical-align: top;\n",
              "    }\n",
              "\n",
              "    .dataframe thead th {\n",
              "        text-align: right;\n",
              "    }\n",
              "</style>\n",
              "<table border=\"1\" class=\"dataframe\">\n",
              "  <thead>\n",
              "    <tr style=\"text-align: right;\">\n",
              "      <th></th>\n",
              "      <th>hit_id_H</th>\n",
              "      <th>particle_id</th>\n",
              "      <th>tx</th>\n",
              "      <th>ty</th>\n",
              "      <th>tz</th>\n",
              "      <th>tpx</th>\n",
              "      <th>tpy</th>\n",
              "      <th>tpz</th>\n",
              "      <th>weight</th>\n",
              "      <th>new_hit_id</th>\n",
              "      <th>...</th>\n",
              "      <th>event_id</th>\n",
              "      <th>new_particle_id</th>\n",
              "      <th>vx</th>\n",
              "      <th>vy</th>\n",
              "      <th>vz</th>\n",
              "      <th>px</th>\n",
              "      <th>py</th>\n",
              "      <th>pz</th>\n",
              "      <th>q</th>\n",
              "      <th>nhits</th>\n",
              "    </tr>\n",
              "  </thead>\n",
              "  <tbody>\n",
              "    <tr>\n",
              "      <th>0</th>\n",
              "      <td>2</td>\n",
              "      <td>22525763437723648</td>\n",
              "      <td>-55.338501</td>\n",
              "      <td>0.630805</td>\n",
              "      <td>-1502.5</td>\n",
              "      <td>-0.570605</td>\n",
              "      <td>0.028390</td>\n",
              "      <td>-15.4922</td>\n",
              "      <td>0.000010</td>\n",
              "      <td>1</td>\n",
              "      <td>...</td>\n",
              "      <td>1000</td>\n",
              "      <td>22525763437724648</td>\n",
              "      <td>-0.015802</td>\n",
              "      <td>0.006381</td>\n",
              "      <td>1.16279</td>\n",
              "      <td>-0.56967</td>\n",
              "      <td>-0.011187</td>\n",
              "      <td>-15.496</td>\n",
              "      <td>1</td>\n",
              "      <td>10</td>\n",
              "    </tr>\n",
              "    <tr>\n",
              "      <th>1</th>\n",
              "      <td>1420</td>\n",
              "      <td>22525763437723648</td>\n",
              "      <td>-55.154400</td>\n",
              "      <td>0.621779</td>\n",
              "      <td>-1497.5</td>\n",
              "      <td>-0.569794</td>\n",
              "      <td>0.027264</td>\n",
              "      <td>-15.4928</td>\n",
              "      <td>0.000008</td>\n",
              "      <td>1419</td>\n",
              "      <td>...</td>\n",
              "      <td>1000</td>\n",
              "      <td>22525763437724648</td>\n",
              "      <td>-0.015802</td>\n",
              "      <td>0.006381</td>\n",
              "      <td>1.16279</td>\n",
              "      <td>-0.56967</td>\n",
              "      <td>-0.011187</td>\n",
              "      <td>-15.496</td>\n",
              "      <td>1</td>\n",
              "      <td>10</td>\n",
              "    </tr>\n",
              "    <tr>\n",
              "      <th>2</th>\n",
              "      <td>1460</td>\n",
              "      <td>22525763437723648</td>\n",
              "      <td>-47.988098</td>\n",
              "      <td>0.315591</td>\n",
              "      <td>-1302.5</td>\n",
              "      <td>-0.568883</td>\n",
              "      <td>0.021994</td>\n",
              "      <td>-15.4929</td>\n",
              "      <td>0.000006</td>\n",
              "      <td>1459</td>\n",
              "      <td>...</td>\n",
              "      <td>1000</td>\n",
              "      <td>22525763437724648</td>\n",
              "      <td>-0.015802</td>\n",
              "      <td>0.006381</td>\n",
              "      <td>1.16279</td>\n",
              "      <td>-0.56967</td>\n",
              "      <td>-0.011187</td>\n",
              "      <td>-15.496</td>\n",
              "      <td>1</td>\n",
              "      <td>10</td>\n",
              "    </tr>\n",
              "    <tr>\n",
              "      <th>3</th>\n",
              "      <td>3170</td>\n",
              "      <td>22525763437723648</td>\n",
              "      <td>-47.804100</td>\n",
              "      <td>0.308733</td>\n",
              "      <td>-1297.5</td>\n",
              "      <td>-0.571445</td>\n",
              "      <td>0.020847</td>\n",
              "      <td>-15.4933</td>\n",
              "      <td>0.000005</td>\n",
              "      <td>3169</td>\n",
              "      <td>...</td>\n",
              "      <td>1000</td>\n",
              "      <td>22525763437724648</td>\n",
              "      <td>-0.015802</td>\n",
              "      <td>0.006381</td>\n",
              "      <td>1.16279</td>\n",
              "      <td>-0.56967</td>\n",
              "      <td>-0.011187</td>\n",
              "      <td>-15.496</td>\n",
              "      <td>1</td>\n",
              "      <td>10</td>\n",
              "    </tr>\n",
              "    <tr>\n",
              "      <th>4</th>\n",
              "      <td>3234</td>\n",
              "      <td>22525763437723648</td>\n",
              "      <td>-40.626099</td>\n",
              "      <td>0.087326</td>\n",
              "      <td>-1102.5</td>\n",
              "      <td>-0.569940</td>\n",
              "      <td>0.015274</td>\n",
              "      <td>-15.4934</td>\n",
              "      <td>0.000005</td>\n",
              "      <td>3233</td>\n",
              "      <td>...</td>\n",
              "      <td>1000</td>\n",
              "      <td>22525763437724648</td>\n",
              "      <td>-0.015802</td>\n",
              "      <td>0.006381</td>\n",
              "      <td>1.16279</td>\n",
              "      <td>-0.56967</td>\n",
              "      <td>-0.011187</td>\n",
              "      <td>-15.496</td>\n",
              "      <td>1</td>\n",
              "      <td>10</td>\n",
              "    </tr>\n",
              "  </tbody>\n",
              "</table>\n",
              "<p>5 rows × 27 columns</p>\n",
              "</div>\n",
              "      <button class=\"colab-df-convert\" onclick=\"convertToInteractive('df-e0852cfd-216a-476a-8624-3809ed4f274d')\"\n",
              "              title=\"Convert this dataframe to an interactive table.\"\n",
              "              style=\"display:none;\">\n",
              "        \n",
              "  <svg xmlns=\"http://www.w3.org/2000/svg\" height=\"24px\"viewBox=\"0 0 24 24\"\n",
              "       width=\"24px\">\n",
              "    <path d=\"M0 0h24v24H0V0z\" fill=\"none\"/>\n",
              "    <path d=\"M18.56 5.44l.94 2.06.94-2.06 2.06-.94-2.06-.94-.94-2.06-.94 2.06-2.06.94zm-11 1L8.5 8.5l.94-2.06 2.06-.94-2.06-.94L8.5 2.5l-.94 2.06-2.06.94zm10 10l.94 2.06.94-2.06 2.06-.94-2.06-.94-.94-2.06-.94 2.06-2.06.94z\"/><path d=\"M17.41 7.96l-1.37-1.37c-.4-.4-.92-.59-1.43-.59-.52 0-1.04.2-1.43.59L10.3 9.45l-7.72 7.72c-.78.78-.78 2.05 0 2.83L4 21.41c.39.39.9.59 1.41.59.51 0 1.02-.2 1.41-.59l7.78-7.78 2.81-2.81c.8-.78.8-2.07 0-2.86zM5.41 20L4 18.59l7.72-7.72 1.47 1.35L5.41 20z\"/>\n",
              "  </svg>\n",
              "      </button>\n",
              "      \n",
              "  <style>\n",
              "    .colab-df-container {\n",
              "      display:flex;\n",
              "      flex-wrap:wrap;\n",
              "      gap: 12px;\n",
              "    }\n",
              "\n",
              "    .colab-df-convert {\n",
              "      background-color: #E8F0FE;\n",
              "      border: none;\n",
              "      border-radius: 50%;\n",
              "      cursor: pointer;\n",
              "      display: none;\n",
              "      fill: #1967D2;\n",
              "      height: 32px;\n",
              "      padding: 0 0 0 0;\n",
              "      width: 32px;\n",
              "    }\n",
              "\n",
              "    .colab-df-convert:hover {\n",
              "      background-color: #E2EBFA;\n",
              "      box-shadow: 0px 1px 2px rgba(60, 64, 67, 0.3), 0px 1px 3px 1px rgba(60, 64, 67, 0.15);\n",
              "      fill: #174EA6;\n",
              "    }\n",
              "\n",
              "    [theme=dark] .colab-df-convert {\n",
              "      background-color: #3B4455;\n",
              "      fill: #D2E3FC;\n",
              "    }\n",
              "\n",
              "    [theme=dark] .colab-df-convert:hover {\n",
              "      background-color: #434B5C;\n",
              "      box-shadow: 0px 1px 3px 1px rgba(0, 0, 0, 0.15);\n",
              "      filter: drop-shadow(0px 1px 2px rgba(0, 0, 0, 0.3));\n",
              "      fill: #FFFFFF;\n",
              "    }\n",
              "  </style>\n",
              "\n",
              "      <script>\n",
              "        const buttonEl =\n",
              "          document.querySelector('#df-e0852cfd-216a-476a-8624-3809ed4f274d button.colab-df-convert');\n",
              "        buttonEl.style.display =\n",
              "          google.colab.kernel.accessAllowed ? 'block' : 'none';\n",
              "\n",
              "        async function convertToInteractive(key) {\n",
              "          const element = document.querySelector('#df-e0852cfd-216a-476a-8624-3809ed4f274d');\n",
              "          const dataTable =\n",
              "            await google.colab.kernel.invokeFunction('convertToInteractive',\n",
              "                                                     [key], {});\n",
              "          if (!dataTable) return;\n",
              "\n",
              "          const docLinkHtml = 'Like what you see? Visit the ' +\n",
              "            '<a target=\"_blank\" href=https://colab.research.google.com/notebooks/data_table.ipynb>data table notebook</a>'\n",
              "            + ' to learn more about interactive tables.';\n",
              "          element.innerHTML = '';\n",
              "          dataTable['output_type'] = 'display_data';\n",
              "          await google.colab.output.renderOutput(dataTable, element);\n",
              "          const docLink = document.createElement('div');\n",
              "          docLink.innerHTML = docLinkHtml;\n",
              "          element.appendChild(docLink);\n",
              "        }\n",
              "      </script>\n",
              "    </div>\n",
              "  </div>\n",
              "  "
            ]
          },
          "metadata": {},
          "execution_count": 120
        }
      ]
    },
    {
      "cell_type": "markdown",
      "source": [
        "# Initial filters"
      ],
      "metadata": {
        "id": "g6DxlEBoKHm-"
      }
    },
    {
      "cell_type": "code",
      "source": [
        "\n",
        "#initial filters\n",
        "def weight_filter(df):\n",
        "  \"\"\"\n",
        "     Remove weights = 0\n",
        "  \"\"\"\n",
        "  return df.loc[df.weight!=0]\n",
        "\n",
        "def nhit_filter(df, nhits):\n",
        "  \"\"\"\n",
        "     Remove less than n hits\n",
        "  \"\"\"\n",
        "  #find the amounts of hits per particle\n",
        "  new_nhits = df.new_particle_id.value_counts().rename_axis('new_particle_id').reset_index(name='new_nhits') \n",
        "  #merge the new hhits on new particle id \n",
        "  df = df.merge(new_nhits, on='new_particle_id')\n",
        "  return df.loc[df.new_nhits >= nhits]\n",
        "\n",
        "def db_hit_layer_filter(df):\n",
        "  \"\"\"\n",
        "     Remove double hits in the same layer\n",
        "  \"\"\"\n",
        "  return df.loc[df.duplicated(subset=['new_particle_id', 'layer_id','volume_id'])==False]\n",
        "\n",
        "def volume_filter(df, volume_list):\n",
        "  \"\"\" \n",
        "     Returns only hits in volumes given in volume_list \n",
        "  \"\"\"\n",
        "  return df.loc[df.volume_id.isin(volume_list)]"
      ],
      "metadata": {
        "id": "L68pbrobW5d-"
      },
      "execution_count": null,
      "outputs": []
    },
    {
      "cell_type": "code",
      "source": [
        "print(f\"\"\"Initial number of hits: {len(df)}\"\"\")\n",
        "df = weight_filter(df)\n",
        "print(f\"\"\"Number of hits after weight = 0 removal: {len(df)}\"\"\")\n",
        "volume_list = [8,13,17]   #barrel\n",
        "df = volume_filter(df, volume_list)\n",
        "print(f\"\"\"Number of hits in volumes {volume_list} are: {len(df)}\"\"\")\n",
        "df = db_hit_layer_filter(df)\n",
        "print(f\"\"\"Number of hits after double hit removal: {len(df)}\"\"\")\n",
        "nhits = 4\n",
        "df = nhit_filter(df, nhits)\n",
        "print(f\"\"\"Number of hits with less than {nhits} hits per particle: {len(df)}\"\"\")\n",
        "\n",
        "\n"
      ],
      "metadata": {
        "colab": {
          "base_uri": "https://localhost:8080/"
        },
        "id": "KNf-bjLKWFY7",
        "outputId": "eabf6d00-866b-4fb2-ae97-ff2da7aac603"
      },
      "execution_count": null,
      "outputs": [
        {
          "output_type": "stream",
          "name": "stdout",
          "text": [
            "Initial number of hits: 374398\n",
            "Number of hits after weight = 0 removal: 366640\n",
            "Number of hits in volumes [8, 13, 17] are: 184917\n",
            "Number of hits after double hit removal: 148893\n",
            "Number of hits with less than 4 hits per particle: 135355\n"
          ]
        }
      ]
    },
    {
      "cell_type": "markdown",
      "source": [
        "# Calculate Initial Parameters"
      ],
      "metadata": {
        "id": "1OZ9s6P9KQj2"
      }
    },
    {
      "cell_type": "code",
      "source": [
        " # Calculate derived hits variables\n",
        "df['pt'] = np.sqrt(df.px**2 + df.py**2)\n",
        "df['r'] = np.sqrt(df.x**2 + df.y**2)\n",
        "df['phi'] = np.arctan2(df.y, df.x)\n",
        "def calc_ita(r, z):\n",
        "    theta = np.arctan2(r, z)\n",
        "    return -1. * np.log(np.tan(theta / 2.)), theta\n",
        "df['ita'], df['theta'] = calc_ita(df['r'],df['z'])\n",
        "df['ita2'], df['theta2'] = calc_ita(df['pt'],df['pz'])"
      ],
      "metadata": {
        "id": "ylQtyAfHrHch"
      },
      "execution_count": null,
      "outputs": []
    },
    {
      "cell_type": "code",
      "source": [
        "fig, ax = plt.subplots(figsize=FIGSIZE)\n",
        "\n",
        "ax.hist(df['pt'],bins=1000)\n",
        "\n",
        "\n",
        "# inset axes....\n",
        "axins = ax.inset_axes([.6, 0.6, 0.38, 0.38])\n",
        "axins.hist(df['pt'],bins=1000)\n",
        "# sub region of the original image\n",
        "x1, x2, y1, y2 = 0,2,0, 26000\n",
        "axins.set_xlim(x1, x2)\n",
        "axins.set_ylim(y1, y2)\n",
        "\n",
        "ax.set_title('Transverse Momentum Range',fontsize=FIG_TITLE)\n",
        "ax.set_xlabel('Momentum (GeV)',fontsize=FIG_AXIS)\n",
        "ax.set_ylabel('Particle Counts',fontsize=FIG_AXIS)\n",
        "\n",
        "# ax.legend(fontsize = FIG_LEGEND)\n",
        "ax.indicate_inset_zoom(axins, edgecolor=\"black\")\n",
        "\n",
        "plt.show()"
      ],
      "metadata": {
        "colab": {
          "base_uri": "https://localhost:8080/",
          "height": 468
        },
        "id": "0lbHlaPVwlua",
        "outputId": "59a67b07-2bc4-4517-b90b-ba0d027fc138"
      },
      "execution_count": null,
      "outputs": [
        {
          "output_type": "display_data",
          "data": {
            "text/plain": [
              "<Figure size 1008x504 with 1 Axes>"
            ],
            "image/png": "[encoded data removed]"
          },
          "metadata": {
            "needs_background": "light"
          }
        }
      ]
    },
    {
      "cell_type": "code",
      "source": [
        "#plot pt distr\n",
        "fig, ax = plt.subplots(2,1,figsize = FIGSIZE)\n",
        "\n",
        "ax[0].hist(df['pt'],bins=1000)\n",
        "ax[0].set_title('Transverse Momentum Range',fontsize=FIG_TITLE)\n",
        "#ax[0].set_xlabel('Momentum (GeV)',fontsize=FIG_AXIS)\n",
        "ax[0].set_ylabel('Particle Counts',fontsize=FIG_AXIS)\n",
        "\n",
        "ax[1].hist(df['pt'],bins=1000)\n",
        "ax[1].set_xlim(0,2)\n",
        "#ax[1].set_title('Transverse Momentum Range',fontsize=FIG_TITLE)\n",
        "ax[1].set_xlabel('Momentum (GeV)',fontsize=FIG_AXIS)\n",
        "ax[1].set_ylabel('Particle Counts',fontsize=FIG_AXIS)\n",
        "\n",
        "plt.show()\n"
      ],
      "metadata": {
        "colab": {
          "base_uri": "https://localhost:8080/",
          "height": 468
        },
        "id": "pPnuv8h7WXyM",
        "outputId": "e2541b93-c23f-41ea-fd4b-df3e36d80367"
      },
      "execution_count": null,
      "outputs": [
        {
          "output_type": "display_data",
          "data": {
            "text/plain": [
              "<Figure size 1008x504 with 2 Axes>"
            ],
            "image/png": "[encoded data removed]"
          },
          "metadata": {
            "needs_background": "light"
          }
        }
      ]
    },
    {
      "cell_type": "code",
      "source": [
        "#plot pt distr\n",
        "fig, ax = plt.subplots(figsize = FIGSIZE)\n",
        "\n",
        "ax.hist(df['phi'],bins=1000)\n",
        "ax.set_title('Phi Range',fontsize=FIG_TITLE)\n",
        "ax.set_xlabel('Phi',fontsize=FIG_AXIS)\n",
        "ax.set_ylabel('Particle Counts',fontsize=FIG_AXIS)\n",
        "\n",
        "\n",
        "\n",
        "plt.show()\n"
      ],
      "metadata": {
        "colab": {
          "base_uri": "https://localhost:8080/",
          "height": 468
        },
        "id": "fbqPNBT9WxI8",
        "outputId": "87503705-23c1-4191-98e0-5a66b027f6e8"
      },
      "execution_count": null,
      "outputs": [
        {
          "output_type": "display_data",
          "data": {
            "text/plain": [
              "<Figure size 1008x504 with 1 Axes>"
            ],
            "image/png": "[encoded data removed]"
          },
          "metadata": {
            "needs_background": "light"
          }
        }
      ]
    },
    {
      "cell_type": "code",
      "source": [
        "#plot pt distr\n",
        "fig, ax = plt.subplots(figsize = FIGSIZE)\n",
        "\n",
        "ax.hist(df['r'],bins=1000)\n",
        "ax.set_title('Radius Range',fontsize=FIG_TITLE)\n",
        "ax.set_xlabel('radius (mm)',fontsize=FIG_AXIS)\n",
        "ax.set_ylabel('Particle Counts',fontsize=FIG_AXIS)\n",
        "plt.show()\n"
      ],
      "metadata": {
        "colab": {
          "base_uri": "https://localhost:8080/",
          "height": 468
        },
        "id": "H2DFw5IyuypE",
        "outputId": "98929e7e-03b1-482e-e8b4-89927b57d24c"
      },
      "execution_count": null,
      "outputs": [
        {
          "output_type": "display_data",
          "data": {
            "text/plain": [
              "<Figure size 1008x504 with 1 Axes>"
            ],
            "image/png": "[encoded data removed]"
          },
          "metadata": {
            "needs_background": "light"
          }
        }
      ]
    },
    {
      "cell_type": "code",
      "source": [
        "#plot pt distr WHAT FILTER DIMINISH THE ETA\n",
        "fig, ax = plt.subplots(figsize = FIGSIZE)\n",
        "\n",
        "ax.hist(df['ita'],bins=100)\n",
        "ax.set_title('Ita Range',fontsize=FIG_TITLE)\n",
        "ax.set_xlabel('Ita',fontsize=FIG_AXIS)\n",
        "ax.set_ylabel('Particle Counts',fontsize=FIG_AXIS)\n",
        "plt.show()"
      ],
      "metadata": {
        "colab": {
          "base_uri": "https://localhost:8080/",
          "height": 468
        },
        "id": "4dj6vFy_vgQK",
        "outputId": "d16a6986-ceb5-4b88-bc1d-73e01b33c7ee"
      },
      "execution_count": null,
      "outputs": [
        {
          "output_type": "display_data",
          "data": {
            "text/plain": [
              "<Figure size 1008x504 with 1 Axes>"
            ],
            "image/png": "[encoded data removed]"
          },
          "metadata": {
            "needs_background": "light"
          }
        }
      ]
    },
    {
      "cell_type": "code",
      "source": [
        "# #plot pt distr\n",
        "# fig, ax = plt.subplots(figsize = FIGSIZE)\n",
        "\n",
        "# ax.hist(df['ita2'],bins=100)\n",
        "# ax.set_title('Ita2 Range',fontsize=FIG_TITLE)\n",
        "# ax.set_xlabel('Ita2',fontsize=FIG_AXIS)\n",
        "# ax.set_ylabel('Particle Counts',fontsize=FIG_AXIS)\n",
        "# plt.show()"
      ],
      "metadata": {
        "id": "ZLHxL1YT2IlW"
      },
      "execution_count": null,
      "outputs": []
    },
    {
      "cell_type": "code",
      "source": [
        "#plot pt distr\n",
        "fig, ax = plt.subplots(figsize = FIGSIZE)\n",
        "\n",
        "ax.hist(df['theta'],bins=100)\n",
        "ax.set_title('Theta Range',fontsize=FIG_TITLE)\n",
        "ax.set_xlabel('Theta',fontsize=FIG_AXIS)\n",
        "ax.set_ylabel('Particle Counts',fontsize=FIG_AXIS)\n",
        "plt.show()"
      ],
      "metadata": {
        "colab": {
          "base_uri": "https://localhost:8080/",
          "height": 468
        },
        "id": "5hHrD4wHwA20",
        "outputId": "3aa09648-925c-4d21-c840-11e1e0217a30"
      },
      "execution_count": null,
      "outputs": [
        {
          "output_type": "display_data",
          "data": {
            "text/plain": [
              "<Figure size 1008x504 with 1 Axes>"
            ],
            "image/png": "[encoded data removed]"
          },
          "metadata": {
            "needs_background": "light"
          }
        }
      ]
    },
    {
      "cell_type": "code",
      "source": [
        "# #plot pt distr\n",
        "# fig, ax = plt.subplots(figsize = FIGSIZE)\n",
        "\n",
        "# ax.hist(df['theta2'],bins=100)\n",
        "# ax.set_title('Theta2 Range',fontsize=FIG_TITLE)\n",
        "# ax.set_xlabel('Theta2',fontsize=FIG_AXIS)\n",
        "# ax.set_ylabel('Particle Counts',fontsize=FIG_AXIS)\n",
        "# plt.show()"
      ],
      "metadata": {
        "id": "xLU79PSsxdu9"
      },
      "execution_count": null,
      "outputs": []
    },
    {
      "cell_type": "markdown",
      "source": [
        "# Create new hit section id"
      ],
      "metadata": {
        "id": "fCng7asvYRdh"
      }
    },
    {
      "cell_type": "code",
      "source": [
        "df['Section_unique_id'] = df.layer_id * df.volume_id + (df.layer_id + df.volume_id)"
      ],
      "metadata": {
        "id": "F63JZqG7YRSb"
      },
      "execution_count": null,
      "outputs": []
    },
    {
      "cell_type": "code",
      "source": [
        "new_sec = df[['layer_id','volume_id','Section_unique_id']].value_counts().reset_index(name='hits_per_layer').sort_values(by=['volume_id','layer_id'])\n",
        "new_sec"
      ],
      "metadata": {
        "colab": {
          "base_uri": "https://localhost:8080/",
          "height": 363
        },
        "id": "_qwDgU04YRGo",
        "outputId": "84065f10-fbe3-4265-f860-056108c55986"
      },
      "execution_count": null,
      "outputs": [
        {
          "output_type": "execute_result",
          "data": {
            "text/plain": [
              "   layer_id  volume_id  Section_unique_id  hits_per_layer\n",
              "3         2          8                 26           16129\n",
              "2         4          8                 44           16741\n",
              "1         6          8                 62           16993\n",
              "5         8          8                 80           14856\n",
              "0         2         13                 41           17976\n",
              "4         4         13                 69           15742\n",
              "6         6         13                 97           13264\n",
              "7         8         13                125           10408\n",
              "8         2         17                 53            7810\n",
              "9         4         17                 89            5436"
            ],
            "text/html": [
              "\n",
              "  <div id=\"df-78575376-6c5c-4ce6-a7e8-e6758a41ef1f\">\n",
              "    <div class=\"colab-df-container\">\n",
              "      <div>\n",
              "<style scoped>\n",
              "    .dataframe tbody tr th:only-of-type {\n",
              "        vertical-align: middle;\n",
              "    }\n",
              "\n",
              "    .dataframe tbody tr th {\n",
              "        vertical-align: top;\n",
              "    }\n",
              "\n",
              "    .dataframe thead th {\n",
              "        text-align: right;\n",
              "    }\n",
              "</style>\n",
              "<table border=\"1\" class=\"dataframe\">\n",
              "  <thead>\n",
              "    <tr style=\"text-align: right;\">\n",
              "      <th></th>\n",
              "      <th>layer_id</th>\n",
              "      <th>volume_id</th>\n",
              "      <th>Section_unique_id</th>\n",
              "      <th>hits_per_layer</th>\n",
              "    </tr>\n",
              "  </thead>\n",
              "  <tbody>\n",
              "    <tr>\n",
              "      <th>3</th>\n",
              "      <td>2</td>\n",
              "      <td>8</td>\n",
              "      <td>26</td>\n",
              "      <td>16129</td>\n",
              "    </tr>\n",
              "    <tr>\n",
              "      <th>2</th>\n",
              "      <td>4</td>\n",
              "      <td>8</td>\n",
              "      <td>44</td>\n",
              "      <td>16741</td>\n",
              "    </tr>\n",
              "    <tr>\n",
              "      <th>1</th>\n",
              "      <td>6</td>\n",
              "      <td>8</td>\n",
              "      <td>62</td>\n",
              "      <td>16993</td>\n",
              "    </tr>\n",
              "    <tr>\n",
              "      <th>5</th>\n",
              "      <td>8</td>\n",
              "      <td>8</td>\n",
              "      <td>80</td>\n",
              "      <td>14856</td>\n",
              "    </tr>\n",
              "    <tr>\n",
              "      <th>0</th>\n",
              "      <td>2</td>\n",
              "      <td>13</td>\n",
              "      <td>41</td>\n",
              "      <td>17976</td>\n",
              "    </tr>\n",
              "    <tr>\n",
              "      <th>4</th>\n",
              "      <td>4</td>\n",
              "      <td>13</td>\n",
              "      <td>69</td>\n",
              "      <td>15742</td>\n",
              "    </tr>\n",
              "    <tr>\n",
              "      <th>6</th>\n",
              "      <td>6</td>\n",
              "      <td>13</td>\n",
              "      <td>97</td>\n",
              "      <td>13264</td>\n",
              "    </tr>\n",
              "    <tr>\n",
              "      <th>7</th>\n",
              "      <td>8</td>\n",
              "      <td>13</td>\n",
              "      <td>125</td>\n",
              "      <td>10408</td>\n",
              "    </tr>\n",
              "    <tr>\n",
              "      <th>8</th>\n",
              "      <td>2</td>\n",
              "      <td>17</td>\n",
              "      <td>53</td>\n",
              "      <td>7810</td>\n",
              "    </tr>\n",
              "    <tr>\n",
              "      <th>9</th>\n",
              "      <td>4</td>\n",
              "      <td>17</td>\n",
              "      <td>89</td>\n",
              "      <td>5436</td>\n",
              "    </tr>\n",
              "  </tbody>\n",
              "</table>\n",
              "</div>\n",
              "      <button class=\"colab-df-convert\" onclick=\"convertToInteractive('df-78575376-6c5c-4ce6-a7e8-e6758a41ef1f')\"\n",
              "              title=\"Convert this dataframe to an interactive table.\"\n",
              "              style=\"display:none;\">\n",
              "        \n",
              "  <svg xmlns=\"http://www.w3.org/2000/svg\" height=\"24px\"viewBox=\"0 0 24 24\"\n",
              "       width=\"24px\">\n",
              "    <path d=\"M0 0h24v24H0V0z\" fill=\"none\"/>\n",
              "    <path d=\"M18.56 5.44l.94 2.06.94-2.06 2.06-.94-2.06-.94-.94-2.06-.94 2.06-2.06.94zm-11 1L8.5 8.5l.94-2.06 2.06-.94-2.06-.94L8.5 2.5l-.94 2.06-2.06.94zm10 10l.94 2.06.94-2.06 2.06-.94-2.06-.94-.94-2.06-.94 2.06-2.06.94z\"/><path d=\"M17.41 7.96l-1.37-1.37c-.4-.4-.92-.59-1.43-.59-.52 0-1.04.2-1.43.59L10.3 9.45l-7.72 7.72c-.78.78-.78 2.05 0 2.83L4 21.41c.39.39.9.59 1.41.59.51 0 1.02-.2 1.41-.59l7.78-7.78 2.81-2.81c.8-.78.8-2.07 0-2.86zM5.41 20L4 18.59l7.72-7.72 1.47 1.35L5.41 20z\"/>\n",
              "  </svg>\n",
              "      </button>\n",
              "      \n",
              "  <style>\n",
              "    .colab-df-container {\n",
              "      display:flex;\n",
              "      flex-wrap:wrap;\n",
              "      gap: 12px;\n",
              "    }\n",
              "\n",
              "    .colab-df-convert {\n",
              "      background-color: #E8F0FE;\n",
              "      border: none;\n",
              "      border-radius: 50%;\n",
              "      cursor: pointer;\n",
              "      display: none;\n",
              "      fill: #1967D2;\n",
              "      height: 32px;\n",
              "      padding: 0 0 0 0;\n",
              "      width: 32px;\n",
              "    }\n",
              "\n",
              "    .colab-df-convert:hover {\n",
              "      background-color: #E2EBFA;\n",
              "      box-shadow: 0px 1px 2px rgba(60, 64, 67, 0.3), 0px 1px 3px 1px rgba(60, 64, 67, 0.15);\n",
              "      fill: #174EA6;\n",
              "    }\n",
              "\n",
              "    [theme=dark] .colab-df-convert {\n",
              "      background-color: #3B4455;\n",
              "      fill: #D2E3FC;\n",
              "    }\n",
              "\n",
              "    [theme=dark] .colab-df-convert:hover {\n",
              "      background-color: #434B5C;\n",
              "      box-shadow: 0px 1px 3px 1px rgba(0, 0, 0, 0.15);\n",
              "      filter: drop-shadow(0px 1px 2px rgba(0, 0, 0, 0.3));\n",
              "      fill: #FFFFFF;\n",
              "    }\n",
              "  </style>\n",
              "\n",
              "      <script>\n",
              "        const buttonEl =\n",
              "          document.querySelector('#df-78575376-6c5c-4ce6-a7e8-e6758a41ef1f button.colab-df-convert');\n",
              "        buttonEl.style.display =\n",
              "          google.colab.kernel.accessAllowed ? 'block' : 'none';\n",
              "\n",
              "        async function convertToInteractive(key) {\n",
              "          const element = document.querySelector('#df-78575376-6c5c-4ce6-a7e8-e6758a41ef1f');\n",
              "          const dataTable =\n",
              "            await google.colab.kernel.invokeFunction('convertToInteractive',\n",
              "                                                     [key], {});\n",
              "          if (!dataTable) return;\n",
              "\n",
              "          const docLinkHtml = 'Like what you see? Visit the ' +\n",
              "            '<a target=\"_blank\" href=https://colab.research.google.com/notebooks/data_table.ipynb>data table notebook</a>'\n",
              "            + ' to learn more about interactive tables.';\n",
              "          element.innerHTML = '';\n",
              "          dataTable['output_type'] = 'display_data';\n",
              "          await google.colab.output.renderOutput(dataTable, element);\n",
              "          const docLink = document.createElement('div');\n",
              "          docLink.innerHTML = docLinkHtml;\n",
              "          element.appendChild(docLink);\n",
              "        }\n",
              "      </script>\n",
              "    </div>\n",
              "  </div>\n",
              "  "
            ]
          },
          "metadata": {},
          "execution_count": 100
        }
      ]
    },
    {
      "cell_type": "code",
      "source": [
        "cons_layers = new_sec.Section_unique_id.unique()\n",
        "cons_layers"
      ],
      "metadata": {
        "colab": {
          "base_uri": "https://localhost:8080/"
        },
        "id": "sb3N_Q26YQuY",
        "outputId": "34e72ee1-c8bc-4c4c-8b41-5a92fc45f38e"
      },
      "execution_count": null,
      "outputs": [
        {
          "output_type": "execute_result",
          "data": {
            "text/plain": [
              "array([ 26,  44,  62,  80,  41,  69,  97, 125,  53,  89])"
            ]
          },
          "metadata": {},
          "execution_count": 101
        }
      ]
    },
    {
      "cell_type": "markdown",
      "source": [
        "# Create Sections"
      ],
      "metadata": {
        "id": "vzBbEH_AKg01"
      }
    },
    {
      "cell_type": "code",
      "source": [
        "#use only important columns\n",
        "df = df[['new_hit_id', 'new_particle_id', 'Section_unique_id','x', 'y', 'z','pt', 'r', 'phi','ita','event_id']]"
      ],
      "metadata": {
        "id": "qrQsw1qzcC9I"
      },
      "execution_count": null,
      "outputs": []
    },
    {
      "cell_type": "code",
      "source": [
        "phi_range = (-np.pi, np.pi)\n",
        "ita_range =  (-3, 3)\n",
        "n_phi_sections = 8          # Towards a realistic track reconstruction algorithm based\n",
        "n_ita_sections = 2          #on graph neural networks for the HL-LHC\n",
        "\n",
        "phi_edges = np.linspace(*phi_range, num=n_phi_sections+1)   #9 sections in range of phi \n",
        "ita_edges = np.linspace(*ita_range, num=n_ita_sections+1)   #3 sections in range of ita\n",
        "def split_detector_sections(df, phi_edges, ita_edges):\n",
        "    \"\"\"Split hits according to provided phi and ita boundaries.\"\"\"\n",
        "    hits_sections = []\n",
        "    # Loop over sections on phi\n",
        "    for i in range(len(phi_edges) - 1):\n",
        "        phi_min, phi_max = phi_edges[i], phi_edges[i+1]    #min and max phi in cosnecutive phi sections\n",
        "        # Select hits in this phi section\n",
        "        phi_hits = df[(df.phi >= phi_min) & (df.phi < phi_max)]\n",
        "        # Center these hits on phi=0\n",
        "        centered_phi = phi_hits.phi - (phi_min + phi_max) / 2\n",
        "        phi_hits = phi_hits.assign(sec_phi=centered_phi, phi_section=i)\n",
        "        #loop over sections on phi\n",
        "        for j in range(len(ita_edges) - 1):\n",
        "            ita_min, ita_max = ita_edges[j], ita_edges[j+1]\n",
        "            # Select hits in this ita section\n",
        "            # ita,theta = calc_ita(phi_hits.r, phi_hits.pz)  #CHECK THIS \n",
        "            sec_hits = phi_hits[(df['ita'] >= ita_min) & (df['ita'] < ita_max)]\n",
        "            hits_sections.append(sec_hits.assign(ita_section=j))\n",
        "    \n",
        "    return hits_sections\n",
        "df_sections = split_detector_sections(df, phi_edges, ita_edges)"
      ],
      "metadata": {
        "colab": {
          "base_uri": "https://localhost:8080/"
        },
        "id": "UBny1Gd3Kgge",
        "outputId": "a76a9463-d02b-4805-db20-1d15d6472828"
      },
      "execution_count": null,
      "outputs": [
        {
          "output_type": "stream",
          "name": "stderr",
          "text": [
            "/usr/local/lib/python3.7/dist-packages/ipykernel_launcher.py:24: UserWarning: Boolean Series key will be reindexed to match DataFrame index.\n"
          ]
        }
      ]
    },
    {
      "cell_type": "markdown",
      "source": [
        "# Create graph data"
      ],
      "metadata": {
        "id": "ZFf_b3QgKeJd"
      }
    },
    {
      "cell_type": "code",
      "source": [
        "\n",
        "df_sections[0].loc[df_sections[0].new_particle_id==544935898525996009]"
      ],
      "metadata": {
        "colab": {
          "base_uri": "https://localhost:8080/",
          "height": 112
        },
        "id": "czAP-bzOaPC6",
        "outputId": "09fa4b32-4a45-433e-e34d-b485b89c36f2"
      },
      "execution_count": null,
      "outputs": [
        {
          "output_type": "execute_result",
          "data": {
            "text/plain": [
              "     new_hit_id     new_particle_id  Section_unique_id           x  \\\n",
              "409       92099  544935898525996009                125 -526.348022   \n",
              "410      108511  544935898525996009                 53 -814.364990   \n",
              "\n",
              "              y           z        pt           r       phi       ita  \\\n",
              "409 -395.260986 -751.599976  0.287511  658.235168 -2.497484 -0.978202   \n",
              "410 -101.620003 -580.200012  0.287511  820.680786 -3.017450 -0.658370   \n",
              "\n",
              "     event_id   sec_phi  phi_section  ita_section  \n",
              "409      1000  0.251410            0            0  \n",
              "410      1000 -0.268557            0            0  "
            ],
            "text/html": [
              "\n",
              "  <div id=\"df-eca6d938-6eba-49a8-86d7-885597f702a9\">\n",
              "    <div class=\"colab-df-container\">\n",
              "      <div>\n",
              "<style scoped>\n",
              "    .dataframe tbody tr th:only-of-type {\n",
              "        vertical-align: middle;\n",
              "    }\n",
              "\n",
              "    .dataframe tbody tr th {\n",
              "        vertical-align: top;\n",
              "    }\n",
              "\n",
              "    .dataframe thead th {\n",
              "        text-align: right;\n",
              "    }\n",
              "</style>\n",
              "<table border=\"1\" class=\"dataframe\">\n",
              "  <thead>\n",
              "    <tr style=\"text-align: right;\">\n",
              "      <th></th>\n",
              "      <th>new_hit_id</th>\n",
              "      <th>new_particle_id</th>\n",
              "      <th>Section_unique_id</th>\n",
              "      <th>x</th>\n",
              "      <th>y</th>\n",
              "      <th>z</th>\n",
              "      <th>pt</th>\n",
              "      <th>r</th>\n",
              "      <th>phi</th>\n",
              "      <th>ita</th>\n",
              "      <th>event_id</th>\n",
              "      <th>sec_phi</th>\n",
              "      <th>phi_section</th>\n",
              "      <th>ita_section</th>\n",
              "    </tr>\n",
              "  </thead>\n",
              "  <tbody>\n",
              "    <tr>\n",
              "      <th>409</th>\n",
              "      <td>92099</td>\n",
              "      <td>544935898525996009</td>\n",
              "      <td>125</td>\n",
              "      <td>-526.348022</td>\n",
              "      <td>-395.260986</td>\n",
              "      <td>-751.599976</td>\n",
              "      <td>0.287511</td>\n",
              "      <td>658.235168</td>\n",
              "      <td>-2.497484</td>\n",
              "      <td>-0.978202</td>\n",
              "      <td>1000</td>\n",
              "      <td>0.251410</td>\n",
              "      <td>0</td>\n",
              "      <td>0</td>\n",
              "    </tr>\n",
              "    <tr>\n",
              "      <th>410</th>\n",
              "      <td>108511</td>\n",
              "      <td>544935898525996009</td>\n",
              "      <td>53</td>\n",
              "      <td>-814.364990</td>\n",
              "      <td>-101.620003</td>\n",
              "      <td>-580.200012</td>\n",
              "      <td>0.287511</td>\n",
              "      <td>820.680786</td>\n",
              "      <td>-3.017450</td>\n",
              "      <td>-0.658370</td>\n",
              "      <td>1000</td>\n",
              "      <td>-0.268557</td>\n",
              "      <td>0</td>\n",
              "      <td>0</td>\n",
              "    </tr>\n",
              "  </tbody>\n",
              "</table>\n",
              "</div>\n",
              "      <button class=\"colab-df-convert\" onclick=\"convertToInteractive('df-eca6d938-6eba-49a8-86d7-885597f702a9')\"\n",
              "              title=\"Convert this dataframe to an interactive table.\"\n",
              "              style=\"display:none;\">\n",
              "        \n",
              "  <svg xmlns=\"http://www.w3.org/2000/svg\" height=\"24px\"viewBox=\"0 0 24 24\"\n",
              "       width=\"24px\">\n",
              "    <path d=\"M0 0h24v24H0V0z\" fill=\"none\"/>\n",
              "    <path d=\"M18.56 5.44l.94 2.06.94-2.06 2.06-.94-2.06-.94-.94-2.06-.94 2.06-2.06.94zm-11 1L8.5 8.5l.94-2.06 2.06-.94-2.06-.94L8.5 2.5l-.94 2.06-2.06.94zm10 10l.94 2.06.94-2.06 2.06-.94-2.06-.94-.94-2.06-.94 2.06-2.06.94z\"/><path d=\"M17.41 7.96l-1.37-1.37c-.4-.4-.92-.59-1.43-.59-.52 0-1.04.2-1.43.59L10.3 9.45l-7.72 7.72c-.78.78-.78 2.05 0 2.83L4 21.41c.39.39.9.59 1.41.59.51 0 1.02-.2 1.41-.59l7.78-7.78 2.81-2.81c.8-.78.8-2.07 0-2.86zM5.41 20L4 18.59l7.72-7.72 1.47 1.35L5.41 20z\"/>\n",
              "  </svg>\n",
              "      </button>\n",
              "      \n",
              "  <style>\n",
              "    .colab-df-container {\n",
              "      display:flex;\n",
              "      flex-wrap:wrap;\n",
              "      gap: 12px;\n",
              "    }\n",
              "\n",
              "    .colab-df-convert {\n",
              "      background-color: #E8F0FE;\n",
              "      border: none;\n",
              "      border-radius: 50%;\n",
              "      cursor: pointer;\n",
              "      display: none;\n",
              "      fill: #1967D2;\n",
              "      height: 32px;\n",
              "      padding: 0 0 0 0;\n",
              "      width: 32px;\n",
              "    }\n",
              "\n",
              "    .colab-df-convert:hover {\n",
              "      background-color: #E2EBFA;\n",
              "      box-shadow: 0px 1px 2px rgba(60, 64, 67, 0.3), 0px 1px 3px 1px rgba(60, 64, 67, 0.15);\n",
              "      fill: #174EA6;\n",
              "    }\n",
              "\n",
              "    [theme=dark] .colab-df-convert {\n",
              "      background-color: #3B4455;\n",
              "      fill: #D2E3FC;\n",
              "    }\n",
              "\n",
              "    [theme=dark] .colab-df-convert:hover {\n",
              "      background-color: #434B5C;\n",
              "      box-shadow: 0px 1px 3px 1px rgba(0, 0, 0, 0.15);\n",
              "      filter: drop-shadow(0px 1px 2px rgba(0, 0, 0, 0.3));\n",
              "      fill: #FFFFFF;\n",
              "    }\n",
              "  </style>\n",
              "\n",
              "      <script>\n",
              "        const buttonEl =\n",
              "          document.querySelector('#df-eca6d938-6eba-49a8-86d7-885597f702a9 button.colab-df-convert');\n",
              "        buttonEl.style.display =\n",
              "          google.colab.kernel.accessAllowed ? 'block' : 'none';\n",
              "\n",
              "        async function convertToInteractive(key) {\n",
              "          const element = document.querySelector('#df-eca6d938-6eba-49a8-86d7-885597f702a9');\n",
              "          const dataTable =\n",
              "            await google.colab.kernel.invokeFunction('convertToInteractive',\n",
              "                                                     [key], {});\n",
              "          if (!dataTable) return;\n",
              "\n",
              "          const docLinkHtml = 'Like what you see? Visit the ' +\n",
              "            '<a target=\"_blank\" href=https://colab.research.google.com/notebooks/data_table.ipynb>data table notebook</a>'\n",
              "            + ' to learn more about interactive tables.';\n",
              "          element.innerHTML = '';\n",
              "          dataTable['output_type'] = 'display_data';\n",
              "          await google.colab.output.renderOutput(dataTable, element);\n",
              "          const docLink = document.createElement('div');\n",
              "          docLink.innerHTML = docLinkHtml;\n",
              "          element.appendChild(docLink);\n",
              "        }\n",
              "      </script>\n",
              "    </div>\n",
              "  </div>\n",
              "  "
            ]
          },
          "metadata": {},
          "execution_count": 104
        }
      ]
    },
    {
      "cell_type": "code",
      "source": [
        "df_sections[2].loc[df_sections[2].new_particle_id==544935898525996009]"
      ],
      "metadata": {
        "colab": {
          "base_uri": "https://localhost:8080/",
          "height": 143
        },
        "id": "_JrmBASqa1t5",
        "outputId": "b7a4281b-cf3f-4017-eb42-712aab4910ea"
      },
      "execution_count": null,
      "outputs": [
        {
          "output_type": "execute_result",
          "data": {
            "text/plain": [
              "     new_hit_id     new_particle_id  Section_unique_id           x  \\\n",
              "406       71207  544935898525996009                 41  -10.300000   \n",
              "407       78553  544935898525996009                 69 -102.725998   \n",
              "408       85620  544935898525996009                 97 -287.170990   \n",
              "\n",
              "              y           z        pt           r       phi       ita  \\\n",
              "406 -263.070007 -976.599976  0.287511  263.271576 -1.609929 -2.021730   \n",
              "407 -342.890015 -926.400024  0.287511  357.947205 -1.861876 -1.679459   \n",
              "408 -415.278015 -846.885986  0.287511  504.898987 -2.175805 -1.289273   \n",
              "\n",
              "     event_id   sec_phi  phi_section  ita_section  \n",
              "406      1000  0.353566            1            0  \n",
              "407      1000  0.101620            1            0  \n",
              "408      1000 -0.212310            1            0  "
            ],
            "text/html": [
              "\n",
              "  <div id=\"df-0ae010a3-0604-4235-869c-cdba6eeb5e51\">\n",
              "    <div class=\"colab-df-container\">\n",
              "      <div>\n",
              "<style scoped>\n",
              "    .dataframe tbody tr th:only-of-type {\n",
              "        vertical-align: middle;\n",
              "    }\n",
              "\n",
              "    .dataframe tbody tr th {\n",
              "        vertical-align: top;\n",
              "    }\n",
              "\n",
              "    .dataframe thead th {\n",
              "        text-align: right;\n",
              "    }\n",
              "</style>\n",
              "<table border=\"1\" class=\"dataframe\">\n",
              "  <thead>\n",
              "    <tr style=\"text-align: right;\">\n",
              "      <th></th>\n",
              "      <th>new_hit_id</th>\n",
              "      <th>new_particle_id</th>\n",
              "      <th>Section_unique_id</th>\n",
              "      <th>x</th>\n",
              "      <th>y</th>\n",
              "      <th>z</th>\n",
              "      <th>pt</th>\n",
              "      <th>r</th>\n",
              "      <th>phi</th>\n",
              "      <th>ita</th>\n",
              "      <th>event_id</th>\n",
              "      <th>sec_phi</th>\n",
              "      <th>phi_section</th>\n",
              "      <th>ita_section</th>\n",
              "    </tr>\n",
              "  </thead>\n",
              "  <tbody>\n",
              "    <tr>\n",
              "      <th>406</th>\n",
              "      <td>71207</td>\n",
              "      <td>544935898525996009</td>\n",
              "      <td>41</td>\n",
              "      <td>-10.300000</td>\n",
              "      <td>-263.070007</td>\n",
              "      <td>-976.599976</td>\n",
              "      <td>0.287511</td>\n",
              "      <td>263.271576</td>\n",
              "      <td>-1.609929</td>\n",
              "      <td>-2.021730</td>\n",
              "      <td>1000</td>\n",
              "      <td>0.353566</td>\n",
              "      <td>1</td>\n",
              "      <td>0</td>\n",
              "    </tr>\n",
              "    <tr>\n",
              "      <th>407</th>\n",
              "      <td>78553</td>\n",
              "      <td>544935898525996009</td>\n",
              "      <td>69</td>\n",
              "      <td>-102.725998</td>\n",
              "      <td>-342.890015</td>\n",
              "      <td>-926.400024</td>\n",
              "      <td>0.287511</td>\n",
              "      <td>357.947205</td>\n",
              "      <td>-1.861876</td>\n",
              "      <td>-1.679459</td>\n",
              "      <td>1000</td>\n",
              "      <td>0.101620</td>\n",
              "      <td>1</td>\n",
              "      <td>0</td>\n",
              "    </tr>\n",
              "    <tr>\n",
              "      <th>408</th>\n",
              "      <td>85620</td>\n",
              "      <td>544935898525996009</td>\n",
              "      <td>97</td>\n",
              "      <td>-287.170990</td>\n",
              "      <td>-415.278015</td>\n",
              "      <td>-846.885986</td>\n",
              "      <td>0.287511</td>\n",
              "      <td>504.898987</td>\n",
              "      <td>-2.175805</td>\n",
              "      <td>-1.289273</td>\n",
              "      <td>1000</td>\n",
              "      <td>-0.212310</td>\n",
              "      <td>1</td>\n",
              "      <td>0</td>\n",
              "    </tr>\n",
              "  </tbody>\n",
              "</table>\n",
              "</div>\n",
              "      <button class=\"colab-df-convert\" onclick=\"convertToInteractive('df-0ae010a3-0604-4235-869c-cdba6eeb5e51')\"\n",
              "              title=\"Convert this dataframe to an interactive table.\"\n",
              "              style=\"display:none;\">\n",
              "        \n",
              "  <svg xmlns=\"http://www.w3.org/2000/svg\" height=\"24px\"viewBox=\"0 0 24 24\"\n",
              "       width=\"24px\">\n",
              "    <path d=\"M0 0h24v24H0V0z\" fill=\"none\"/>\n",
              "    <path d=\"M18.56 5.44l.94 2.06.94-2.06 2.06-.94-2.06-.94-.94-2.06-.94 2.06-2.06.94zm-11 1L8.5 8.5l.94-2.06 2.06-.94-2.06-.94L8.5 2.5l-.94 2.06-2.06.94zm10 10l.94 2.06.94-2.06 2.06-.94-2.06-.94-.94-2.06-.94 2.06-2.06.94z\"/><path d=\"M17.41 7.96l-1.37-1.37c-.4-.4-.92-.59-1.43-.59-.52 0-1.04.2-1.43.59L10.3 9.45l-7.72 7.72c-.78.78-.78 2.05 0 2.83L4 21.41c.39.39.9.59 1.41.59.51 0 1.02-.2 1.41-.59l7.78-7.78 2.81-2.81c.8-.78.8-2.07 0-2.86zM5.41 20L4 18.59l7.72-7.72 1.47 1.35L5.41 20z\"/>\n",
              "  </svg>\n",
              "      </button>\n",
              "      \n",
              "  <style>\n",
              "    .colab-df-container {\n",
              "      display:flex;\n",
              "      flex-wrap:wrap;\n",
              "      gap: 12px;\n",
              "    }\n",
              "\n",
              "    .colab-df-convert {\n",
              "      background-color: #E8F0FE;\n",
              "      border: none;\n",
              "      border-radius: 50%;\n",
              "      cursor: pointer;\n",
              "      display: none;\n",
              "      fill: #1967D2;\n",
              "      height: 32px;\n",
              "      padding: 0 0 0 0;\n",
              "      width: 32px;\n",
              "    }\n",
              "\n",
              "    .colab-df-convert:hover {\n",
              "      background-color: #E2EBFA;\n",
              "      box-shadow: 0px 1px 2px rgba(60, 64, 67, 0.3), 0px 1px 3px 1px rgba(60, 64, 67, 0.15);\n",
              "      fill: #174EA6;\n",
              "    }\n",
              "\n",
              "    [theme=dark] .colab-df-convert {\n",
              "      background-color: #3B4455;\n",
              "      fill: #D2E3FC;\n",
              "    }\n",
              "\n",
              "    [theme=dark] .colab-df-convert:hover {\n",
              "      background-color: #434B5C;\n",
              "      box-shadow: 0px 1px 3px 1px rgba(0, 0, 0, 0.15);\n",
              "      filter: drop-shadow(0px 1px 2px rgba(0, 0, 0, 0.3));\n",
              "      fill: #FFFFFF;\n",
              "    }\n",
              "  </style>\n",
              "\n",
              "      <script>\n",
              "        const buttonEl =\n",
              "          document.querySelector('#df-0ae010a3-0604-4235-869c-cdba6eeb5e51 button.colab-df-convert');\n",
              "        buttonEl.style.display =\n",
              "          google.colab.kernel.accessAllowed ? 'block' : 'none';\n",
              "\n",
              "        async function convertToInteractive(key) {\n",
              "          const element = document.querySelector('#df-0ae010a3-0604-4235-869c-cdba6eeb5e51');\n",
              "          const dataTable =\n",
              "            await google.colab.kernel.invokeFunction('convertToInteractive',\n",
              "                                                     [key], {});\n",
              "          if (!dataTable) return;\n",
              "\n",
              "          const docLinkHtml = 'Like what you see? Visit the ' +\n",
              "            '<a target=\"_blank\" href=https://colab.research.google.com/notebooks/data_table.ipynb>data table notebook</a>'\n",
              "            + ' to learn more about interactive tables.';\n",
              "          element.innerHTML = '';\n",
              "          dataTable['output_type'] = 'display_data';\n",
              "          await google.colab.output.renderOutput(dataTable, element);\n",
              "          const docLink = document.createElement('div');\n",
              "          docLink.innerHTML = docLinkHtml;\n",
              "          element.appendChild(docLink);\n",
              "        }\n",
              "      </script>\n",
              "    </div>\n",
              "  </div>\n",
              "  "
            ]
          },
          "metadata": {},
          "execution_count": 105
        }
      ]
    },
    {
      "cell_type": "code",
      "source": [
        "df.loc[df.new_particle_id==544935898525996009]"
      ],
      "metadata": {
        "colab": {
          "base_uri": "https://localhost:8080/",
          "height": 206
        },
        "id": "u3_oHKRIa482",
        "outputId": "b205c380-7a35-4408-bd4f-7b8fbad268aa"
      },
      "execution_count": null,
      "outputs": [
        {
          "output_type": "execute_result",
          "data": {
            "text/plain": [
              "     new_hit_id     new_particle_id  Section_unique_id           x  \\\n",
              "406       71207  544935898525996009                 41  -10.300000   \n",
              "407       78553  544935898525996009                 69 -102.725998   \n",
              "408       85620  544935898525996009                 97 -287.170990   \n",
              "409       92099  544935898525996009                125 -526.348022   \n",
              "410      108511  544935898525996009                 53 -814.364990   \n",
              "\n",
              "              y           z        pt           r       phi       ita  \\\n",
              "406 -263.070007 -976.599976  0.287511  263.271576 -1.609929 -2.021730   \n",
              "407 -342.890015 -926.400024  0.287511  357.947205 -1.861876 -1.679459   \n",
              "408 -415.278015 -846.885986  0.287511  504.898987 -2.175805 -1.289273   \n",
              "409 -395.260986 -751.599976  0.287511  658.235168 -2.497484 -0.978202   \n",
              "410 -101.620003 -580.200012  0.287511  820.680786 -3.017450 -0.658370   \n",
              "\n",
              "     event_id  \n",
              "406      1000  \n",
              "407      1000  \n",
              "408      1000  \n",
              "409      1000  \n",
              "410      1000  "
            ],
            "text/html": [
              "\n",
              "  <div id=\"df-15d45fd4-8b8c-4f92-90a6-5aec27d519db\">\n",
              "    <div class=\"colab-df-container\">\n",
              "      <div>\n",
              "<style scoped>\n",
              "    .dataframe tbody tr th:only-of-type {\n",
              "        vertical-align: middle;\n",
              "    }\n",
              "\n",
              "    .dataframe tbody tr th {\n",
              "        vertical-align: top;\n",
              "    }\n",
              "\n",
              "    .dataframe thead th {\n",
              "        text-align: right;\n",
              "    }\n",
              "</style>\n",
              "<table border=\"1\" class=\"dataframe\">\n",
              "  <thead>\n",
              "    <tr style=\"text-align: right;\">\n",
              "      <th></th>\n",
              "      <th>new_hit_id</th>\n",
              "      <th>new_particle_id</th>\n",
              "      <th>Section_unique_id</th>\n",
              "      <th>x</th>\n",
              "      <th>y</th>\n",
              "      <th>z</th>\n",
              "      <th>pt</th>\n",
              "      <th>r</th>\n",
              "      <th>phi</th>\n",
              "      <th>ita</th>\n",
              "      <th>event_id</th>\n",
              "    </tr>\n",
              "  </thead>\n",
              "  <tbody>\n",
              "    <tr>\n",
              "      <th>406</th>\n",
              "      <td>71207</td>\n",
              "      <td>544935898525996009</td>\n",
              "      <td>41</td>\n",
              "      <td>-10.300000</td>\n",
              "      <td>-263.070007</td>\n",
              "      <td>-976.599976</td>\n",
              "      <td>0.287511</td>\n",
              "      <td>263.271576</td>\n",
              "      <td>-1.609929</td>\n",
              "      <td>-2.021730</td>\n",
              "      <td>1000</td>\n",
              "    </tr>\n",
              "    <tr>\n",
              "      <th>407</th>\n",
              "      <td>78553</td>\n",
              "      <td>544935898525996009</td>\n",
              "      <td>69</td>\n",
              "      <td>-102.725998</td>\n",
              "      <td>-342.890015</td>\n",
              "      <td>-926.400024</td>\n",
              "      <td>0.287511</td>\n",
              "      <td>357.947205</td>\n",
              "      <td>-1.861876</td>\n",
              "      <td>-1.679459</td>\n",
              "      <td>1000</td>\n",
              "    </tr>\n",
              "    <tr>\n",
              "      <th>408</th>\n",
              "      <td>85620</td>\n",
              "      <td>544935898525996009</td>\n",
              "      <td>97</td>\n",
              "      <td>-287.170990</td>\n",
              "      <td>-415.278015</td>\n",
              "      <td>-846.885986</td>\n",
              "      <td>0.287511</td>\n",
              "      <td>504.898987</td>\n",
              "      <td>-2.175805</td>\n",
              "      <td>-1.289273</td>\n",
              "      <td>1000</td>\n",
              "    </tr>\n",
              "    <tr>\n",
              "      <th>409</th>\n",
              "      <td>92099</td>\n",
              "      <td>544935898525996009</td>\n",
              "      <td>125</td>\n",
              "      <td>-526.348022</td>\n",
              "      <td>-395.260986</td>\n",
              "      <td>-751.599976</td>\n",
              "      <td>0.287511</td>\n",
              "      <td>658.235168</td>\n",
              "      <td>-2.497484</td>\n",
              "      <td>-0.978202</td>\n",
              "      <td>1000</td>\n",
              "    </tr>\n",
              "    <tr>\n",
              "      <th>410</th>\n",
              "      <td>108511</td>\n",
              "      <td>544935898525996009</td>\n",
              "      <td>53</td>\n",
              "      <td>-814.364990</td>\n",
              "      <td>-101.620003</td>\n",
              "      <td>-580.200012</td>\n",
              "      <td>0.287511</td>\n",
              "      <td>820.680786</td>\n",
              "      <td>-3.017450</td>\n",
              "      <td>-0.658370</td>\n",
              "      <td>1000</td>\n",
              "    </tr>\n",
              "  </tbody>\n",
              "</table>\n",
              "</div>\n",
              "      <button class=\"colab-df-convert\" onclick=\"convertToInteractive('df-15d45fd4-8b8c-4f92-90a6-5aec27d519db')\"\n",
              "              title=\"Convert this dataframe to an interactive table.\"\n",
              "              style=\"display:none;\">\n",
              "        \n",
              "  <svg xmlns=\"http://www.w3.org/2000/svg\" height=\"24px\"viewBox=\"0 0 24 24\"\n",
              "       width=\"24px\">\n",
              "    <path d=\"M0 0h24v24H0V0z\" fill=\"none\"/>\n",
              "    <path d=\"M18.56 5.44l.94 2.06.94-2.06 2.06-.94-2.06-.94-.94-2.06-.94 2.06-2.06.94zm-11 1L8.5 8.5l.94-2.06 2.06-.94-2.06-.94L8.5 2.5l-.94 2.06-2.06.94zm10 10l.94 2.06.94-2.06 2.06-.94-2.06-.94-.94-2.06-.94 2.06-2.06.94z\"/><path d=\"M17.41 7.96l-1.37-1.37c-.4-.4-.92-.59-1.43-.59-.52 0-1.04.2-1.43.59L10.3 9.45l-7.72 7.72c-.78.78-.78 2.05 0 2.83L4 21.41c.39.39.9.59 1.41.59.51 0 1.02-.2 1.41-.59l7.78-7.78 2.81-2.81c.8-.78.8-2.07 0-2.86zM5.41 20L4 18.59l7.72-7.72 1.47 1.35L5.41 20z\"/>\n",
              "  </svg>\n",
              "      </button>\n",
              "      \n",
              "  <style>\n",
              "    .colab-df-container {\n",
              "      display:flex;\n",
              "      flex-wrap:wrap;\n",
              "      gap: 12px;\n",
              "    }\n",
              "\n",
              "    .colab-df-convert {\n",
              "      background-color: #E8F0FE;\n",
              "      border: none;\n",
              "      border-radius: 50%;\n",
              "      cursor: pointer;\n",
              "      display: none;\n",
              "      fill: #1967D2;\n",
              "      height: 32px;\n",
              "      padding: 0 0 0 0;\n",
              "      width: 32px;\n",
              "    }\n",
              "\n",
              "    .colab-df-convert:hover {\n",
              "      background-color: #E2EBFA;\n",
              "      box-shadow: 0px 1px 2px rgba(60, 64, 67, 0.3), 0px 1px 3px 1px rgba(60, 64, 67, 0.15);\n",
              "      fill: #174EA6;\n",
              "    }\n",
              "\n",
              "    [theme=dark] .colab-df-convert {\n",
              "      background-color: #3B4455;\n",
              "      fill: #D2E3FC;\n",
              "    }\n",
              "\n",
              "    [theme=dark] .colab-df-convert:hover {\n",
              "      background-color: #434B5C;\n",
              "      box-shadow: 0px 1px 3px 1px rgba(0, 0, 0, 0.15);\n",
              "      filter: drop-shadow(0px 1px 2px rgba(0, 0, 0, 0.3));\n",
              "      fill: #FFFFFF;\n",
              "    }\n",
              "  </style>\n",
              "\n",
              "      <script>\n",
              "        const buttonEl =\n",
              "          document.querySelector('#df-15d45fd4-8b8c-4f92-90a6-5aec27d519db button.colab-df-convert');\n",
              "        buttonEl.style.display =\n",
              "          google.colab.kernel.accessAllowed ? 'block' : 'none';\n",
              "\n",
              "        async function convertToInteractive(key) {\n",
              "          const element = document.querySelector('#df-15d45fd4-8b8c-4f92-90a6-5aec27d519db');\n",
              "          const dataTable =\n",
              "            await google.colab.kernel.invokeFunction('convertToInteractive',\n",
              "                                                     [key], {});\n",
              "          if (!dataTable) return;\n",
              "\n",
              "          const docLinkHtml = 'Like what you see? Visit the ' +\n",
              "            '<a target=\"_blank\" href=https://colab.research.google.com/notebooks/data_table.ipynb>data table notebook</a>'\n",
              "            + ' to learn more about interactive tables.';\n",
              "          element.innerHTML = '';\n",
              "          dataTable['output_type'] = 'display_data';\n",
              "          await google.colab.output.renderOutput(dataTable, element);\n",
              "          const docLink = document.createElement('div');\n",
              "          docLink.innerHTML = docLinkHtml;\n",
              "          element.appendChild(docLink);\n",
              "        }\n",
              "      </script>\n",
              "    </div>\n",
              "  </div>\n",
              "  "
            ]
          },
          "metadata": {},
          "execution_count": 106
        }
      ]
    },
    {
      "cell_type": "code",
      "source": [
        "def calc_dphi(phi1, phi2):\n",
        "    \"\"\"Computes phi2-phi1 \"\"\"\n",
        "    dphi = phi2 - phi1\n",
        "   \n",
        "    return dphi\n",
        "\n"
      ],
      "metadata": {
        "id": "tZaXX_bYdmpM"
      },
      "execution_count": null,
      "outputs": []
    },
    {
      "cell_type": "code",
      "source": [
        "\n",
        "#work with one df PARALELIZABLE \n",
        "\n",
        "def get_param_distr(df):\n",
        "\n",
        "   #time it \n",
        "  t0 = time.time()\n",
        "  dR_list, phi_slope_list,z0_list, hits_pair_list = [], [], [],[]\n",
        "  for i in range(len(cons_layers)-1):\n",
        "    hits1 = df.loc[df.Section_unique_id == cons_layers[i]]\n",
        "    hits2 = df.loc[df.Section_unique_id == cons_layers[i+1]]\n",
        "    keys = ['event_id', 'new_hit_id','Section_unique_id','new_particle_id','r', 'phi', 'z','ita']\n",
        "    hit_pairs = hit_pairs = hits1[keys].reset_index().merge(hits2[keys].reset_index(), on='event_id', suffixes=('_1', '_2'))\n",
        " \n",
        "    hit_pairs['y'] = hit_pairs.new_particle_id_1 == hit_pairs.new_particle_id_2\n",
        "\n",
        "\n",
        "    hits_pair_list.append(hit_pairs)\n",
        "\n",
        "  df_concat = pd.concat([hits_pair_list[0], hits_pair_list[1]], ignore_index=True)\n",
        "  for i in range(len(hits_pair_list) -2):\n",
        "    df_concat = pd.concat([df_concat, hits_pair_list[i+2]], ignore_index=True)\n",
        "\n",
        "\n",
        "  df_concat['dphi'] = calc_dphi(df_concat.phi_1, df_concat.phi_2)\n",
        "  df_concat['dz'] = df_concat.z_2 - df_concat.z_1\n",
        "  df_concat['dr'] = df_concat.r_2 - df_concat.r_1\n",
        "  df_concat['dita'] = df_concat.ita_2 - df_concat.ita_1\n",
        "  df_concat['dR'] = np.sqrt(df_concat['dita']**2 + df_concat['dphi']**2)\n",
        "  df_concat['phi_slope'] = df_concat['dphi'] / df_concat['dr']\n",
        "  df_concat['z0'] = df_concat.z_1 - df_concat.r_1 * df_concat['dz'] / df_concat['dr']\n",
        "\n",
        "\n",
        "  print(\"...  df_concat completed in {0} seconds\".format(time.time()-t0))\n",
        "\n",
        "  return df_concat"
      ],
      "metadata": {
        "id": "0V96_jNvdt_l"
      },
      "execution_count": null,
      "outputs": []
    },
    {
      "cell_type": "code",
      "source": [
        "df = get_param_distr(df_sections[1])"
      ],
      "metadata": {
        "id": "2OwPc5QaeQT_",
        "colab": {
          "base_uri": "https://localhost:8080/"
        },
        "outputId": "00a7267a-2fdf-4e76-8a80-f2568f7c17de"
      },
      "execution_count": null,
      "outputs": [
        {
          "output_type": "stream",
          "name": "stdout",
          "text": [
            "...  df_concat completed in 0.560497522354126 seconds\n"
          ]
        }
      ]
    },
    {
      "cell_type": "code",
      "source": [
        "fig, ax = plt.subplots(1,2,figsize = FIGSIZE2)\n",
        "ax[0].hist(df.phi_slope,bins=100)\n",
        "ax[0].set_title('Phi Slope Distribution All Particles',fontsize=FIG_TITLE)\n",
        "ax[0].set_xlabel('Phi Slope',fontsize=FIG_AXIS)\n",
        "ax[0].set_ylabel('Particle Counts',fontsize=FIG_AXIS)\n",
        "ax[0].hist(df.loc[df.y==True].phi_slope,bins=100)\n",
        "ax[1].hist(df.loc[df.y==True].phi_slope,bins=100)\n",
        "ax[1].set_title('Phi Slope Distribution True Particles',fontsize=FIG_TITLE)\n",
        "ax[1].set_xlabel('Phi Slope',fontsize=FIG_AXIS)\n",
        "ax[1].set_ylabel('Particle Counts',fontsize=FIG_AXIS)\n",
        "plt.show()"
      ],
      "metadata": {
        "colab": {
          "base_uri": "https://localhost:8080/",
          "height": 468
        },
        "id": "Ja0sGzo_mQWQ",
        "outputId": "c4a26044-3a0c-4231-dc5a-5b0292ef223c"
      },
      "execution_count": null,
      "outputs": [
        {
          "output_type": "display_data",
          "data": {
            "text/plain": [
              "<Figure size 1440x504 with 2 Axes>"
            ],
            "image/png": "[encoded data removed]"
          },
          "metadata": {
            "needs_background": "light"
          }
        }
      ]
    },
    {
      "cell_type": "code",
      "source": [
        "fig, ax = plt.subplots(figsize=FIGSIZE)\n",
        "\n",
        "ax.hist(df.phi_slope,bins=100,label = 'All Particle Pairs')\n",
        "ax.hist(df.loc[df.y==True].phi_slope,bins=100, label = 'True Particle Pairs')\n",
        "\n",
        "# inset axes....\n",
        "axins = ax.inset_axes([.6, 0.6, 0.38, 0.38])\n",
        "axins.hist(df.loc[df.y==True].phi_slope,bins=100, color='orange')\n",
        "# sub region of the original image\n",
        "x1, x2, y1, y2 = -0.005,.005,0, 800\n",
        "axins.set_xlim(x1, x2)\n",
        "axins.set_ylim(y1, y2)\n",
        "\n",
        "ax.set_title('Phi Slope Distribution All Particles',fontsize=FIG_TITLE)\n",
        "ax.set_xlabel('Phi Slope',fontsize=FIG_AXIS)\n",
        "ax.set_ylabel('Particle Counts',fontsize=FIG_AXIS)\n",
        "\n",
        "ax.legend(fontsize = FIG_LEGEND)\n",
        "ax.indicate_inset_zoom(axins, edgecolor=\"black\")\n",
        "\n",
        "plt.show()"
      ],
      "metadata": {
        "colab": {
          "base_uri": "https://localhost:8080/",
          "height": 468
        },
        "id": "I1KnBYD6q3Rf",
        "outputId": "ad5cbc99-a0dc-4051-a50a-81655654d451"
      },
      "execution_count": null,
      "outputs": [
        {
          "output_type": "display_data",
          "data": {
            "text/plain": [
              "<Figure size 1008x504 with 1 Axes>"
            ],
            "image/png": "[encoded data removed]"
          },
          "metadata": {
            "needs_background": "light"
          }
        }
      ]
    },
    {
      "cell_type": "code",
      "source": [
        "fig, ax = plt.subplots(1,2,figsize = FIGSIZE2)\n",
        "ax[0].hist(df.dR,bins=100)\n",
        "ax[0].set_title('d_R Distribution All Particles',fontsize=FIG_TITLE)\n",
        "ax[0].set_xlabel('d_R',fontsize=FIG_AXIS)\n",
        "ax[0].set_ylabel('Particle Counts',fontsize=FIG_AXIS)\n",
        "\n",
        "ax[1].hist(df.loc[df.y==True].dR,bins=100)\n",
        "ax[1].set_title('d_R Distribution True Particles',fontsize=FIG_TITLE)\n",
        "ax[1].set_xlabel('d_R',fontsize=FIG_AXIS)\n",
        "ax[1].set_ylabel('Particle Counts',fontsize=FIG_AXIS)\n",
        "plt.show()"
      ],
      "metadata": {
        "colab": {
          "base_uri": "https://localhost:8080/",
          "height": 469
        },
        "id": "12RgHJ7dmg5H",
        "outputId": "039e345e-57a2-4d52-f218-a1f078f3252c"
      },
      "execution_count": null,
      "outputs": [
        {
          "output_type": "display_data",
          "data": {
            "text/plain": [
              "<Figure size 1440x504 with 2 Axes>"
            ],
            "image/png": "[encoded data removed]"
          },
          "metadata": {
            "needs_background": "light"
          }
        }
      ]
    },
    {
      "cell_type": "code",
      "source": [
        "fig, ax = plt.subplots(1,2,figsize = FIGSIZE2)\n",
        "ax[0].hist(df.z0,bins=100)\n",
        "ax[0].set_title('Z0 Distribution All Particles',fontsize=FIG_TITLE)\n",
        "ax[0].set_xlabel('Z0',fontsize=FIG_AXIS)\n",
        "ax[0].set_ylabel('Particle Counts',fontsize=FIG_AXIS)\n",
        "\n",
        "ax[1].hist(df.loc[df.y==True].z0,bins=100)\n",
        "ax[1].set_title('Z0 Distribution True Particles',fontsize=FIG_TITLE)\n",
        "ax[1].set_xlabel('Z0',fontsize=FIG_AXIS)\n",
        "ax[1].set_ylabel('Particle Counts',fontsize=FIG_AXIS)\n",
        "plt.show()"
      ],
      "metadata": {
        "colab": {
          "base_uri": "https://localhost:8080/",
          "height": 468
        },
        "id": "aSZNq2i2mxU_",
        "outputId": "de6b877e-31fe-4bc4-c137-84bb8e6abff7"
      },
      "execution_count": null,
      "outputs": [
        {
          "output_type": "display_data",
          "data": {
            "text/plain": [
              "<Figure size 1440x504 with 2 Axes>"
            ],
            "image/png": "[encoded data removed]"
          },
          "metadata": {
            "needs_background": "light"
          }
        }
      ]
    },
    {
      "cell_type": "code",
      "source": [
        "#filter\n",
        "prev_data = len(df)\n",
        "df = df.loc[(df.z0>=-2000) & (df.z0<=1500)]\n",
        "z0_filter = len(df)\n",
        "df = df.loc[df.dR<=1.1]\n",
        "dR_filter = len(df)\n",
        "df =df.loc[(df.phi_slope>=-.01) & (df.phi_slope<.015)] \n",
        "phi_slope_filter = len(df)"
      ],
      "metadata": {
        "id": "0hNaRu2SEss3"
      },
      "execution_count": null,
      "outputs": []
    },
    {
      "cell_type": "code",
      "source": [
        "print(f\"\"\"Amount of possible edges without filter:\n",
        "{prev_data},\n",
        "amount of possible edges after z0 filter:\n",
        "{z0_filter},\n",
        "amount of possible edges after dR filter:\n",
        "{dR_filter},\n",
        "amount of possible edges after phi slope filter:\n",
        "{phi_slope_filter}.\n",
        "\"\"\")"
      ],
      "metadata": {
        "colab": {
          "base_uri": "https://localhost:8080/"
        },
        "id": "TU8hVlM-FQL2",
        "outputId": "ea6cb710-987a-40d3-b977-c0cd6db1fd4f"
      },
      "execution_count": null,
      "outputs": [
        {
          "output_type": "stream",
          "name": "stdout",
          "text": [
            "Amount of possible edges without filter:\n",
            "1669300,\n",
            "amount of possible edges after z0 filter:\n",
            "1483438,\n",
            "amount of possible edges after dR filter:\n",
            "1250754,\n",
            "amount of possible edges after phi slope filter:\n",
            "1206256.\n",
            "\n"
          ]
        }
      ]
    },
    {
      "cell_type": "markdown",
      "source": [
        "# Neural netwrok "
      ],
      "metadata": {
        "id": "_e-CwHPOMRa1"
      }
    },
    {
      "cell_type": "code",
      "source": [
        "df.columns"
      ],
      "metadata": {
        "id": "VV80a5-bnFrb",
        "colab": {
          "base_uri": "https://localhost:8080/"
        },
        "outputId": "a047213d-5015-4e40-a5a3-d25974a4f4a2"
      },
      "execution_count": null,
      "outputs": [
        {
          "output_type": "execute_result",
          "data": {
            "text/plain": [
              "Index(['index_1', 'event_id', 'new_hit_id_1', 'Section_unique_id_1',\n",
              "       'new_particle_id_1', 'r_1', 'phi_1', 'z_1', 'ita_1', 'index_2',\n",
              "       'new_hit_id_2', 'Section_unique_id_2', 'new_particle_id_2', 'r_2',\n",
              "       'phi_2', 'z_2', 'ita_2', 'y', 'dphi', 'dz', 'dr', 'dita', 'dR',\n",
              "       'phi_slope', 'z0'],\n",
              "      dtype='object')"
            ]
          },
          "metadata": {},
          "execution_count": 31
        }
      ]
    },
    {
      "cell_type": "code",
      "source": [
        "#split the data \n",
        "X = df[[ 'r_1', 'phi_1', 'z_1', 'ita_1','r_2','phi_2', 'z_2', 'ita_2']]\n",
        "y = df.y\n",
        "count_classes = pd.value_counts(y, sort = True)\n",
        "\n",
        "\n",
        "fig, ax = plt.subplots(figsize = FIGSIZE)\n",
        "\n",
        "ax.bar([1,0],count_classes,width=0.4)\n",
        "ax.set_title('Classes Comparission',fontsize=FIG_TITLE)\n",
        "ax.set_xlabel('Class',fontsize=FIG_AXIS)\n",
        "ax.set_ylabel('Frequency',fontsize=FIG_AXIS)\n",
        "plt.xticks(range(2), ['True Edge', 'Flase Edge'])\n",
        "plt.show()\n",
        "\n"
      ],
      "metadata": {
        "colab": {
          "base_uri": "https://localhost:8080/",
          "height": 468
        },
        "id": "8vMhTrTPR1PT",
        "outputId": "51268cbf-f122-4ac4-a39e-64483f62dd1f"
      },
      "execution_count": null,
      "outputs": [
        {
          "output_type": "display_data",
          "data": {
            "text/plain": [
              "<Figure size 1008x504 with 1 Axes>"
            ],
            "image/png": "[encoded data removed]"
          },
          "metadata": {
            "needs_background": "light"
          }
        }
      ]
    },
    {
      "cell_type": "code",
      "source": [
        "rus = RandomUnderSampler(random_state=42)\n",
        "X_res, y_res = rus.fit_resample(X, y)\n",
        "X_res.shape,y_res.shape\n",
        "count_classes = pd.value_counts(y_res, sort = True)\n",
        "\n",
        "fig, ax = plt.subplots(figsize = FIGSIZE)\n",
        "ax.bar([1,0],count_classes,width=0.4)\n",
        "ax.set_title('Classes Comparission After Undersample',fontsize=FIG_TITLE)\n",
        "ax.set_xlabel('Class',fontsize=FIG_AXIS)\n",
        "ax.set_ylabel('Frequency',fontsize=FIG_AXIS)\n",
        "plt.xticks(range(2), ['True Edge', 'Flase Edge'])\n",
        "plt.show()"
      ],
      "metadata": {
        "colab": {
          "base_uri": "https://localhost:8080/",
          "height": 468
        },
        "id": "wGUI1Ebkl1b8",
        "outputId": "2aee0a0b-4603-418b-dcb0-a16286be13f0"
      },
      "execution_count": null,
      "outputs": [
        {
          "output_type": "display_data",
          "data": {
            "text/plain": [
              "<Figure size 1008x504 with 1 Axes>"
            ],
            "image/png": "[encoded data removed]"
          },
          "metadata": {
            "needs_background": "light"
          }
        }
      ]
    },
    {
      "cell_type": "code",
      "source": [
        "#create a simple XGB classifier\n",
        "\n",
        "X_train, X_test, y_train, y_test = train_test_split(X_res, y_res, test_size=0.4, random_state=1)\n",
        "\n",
        "model = XGBClassifier(use_label_encoder=False, eval_metric='mlogloss')\n",
        "#time it \n",
        "t0 = time.time()\n",
        "model.fit(X_train, y_train)\n",
        "print(\"... XGB model train completed in in {0} seconds\".format(time.time()-t0))\n",
        "#time it \n",
        "t0 = time.time()\n",
        "y_pred = model.predict(X_test)\n",
        "print(\"... Predictions completed in in {0} seconds\".format(time.time()-t0))\n",
        "accuracy = accuracy_score(y_test, y_pred)\n",
        "print(f\"... Accuracy = {accuracy}\")\n"
      ],
      "metadata": {
        "colab": {
          "base_uri": "https://localhost:8080/"
        },
        "id": "54F5z2xcSX3L",
        "outputId": "433575db-9984-4c7f-cb1d-615fc0fce472"
      },
      "execution_count": null,
      "outputs": [
        {
          "output_type": "stream",
          "name": "stdout",
          "text": [
            "... XGB model train completed in in 1.0421156883239746 seconds\n",
            "... Predictions completed in in 0.014732837677001953 seconds\n",
            "... Accuracy = 0.8538205980066446\n"
          ]
        }
      ]
    },
    {
      "cell_type": "code",
      "source": [
        "#create a simple MLP Classifier\n",
        "model = MLPClassifier(hidden_layer_sizes=(200,100), random_state=1, max_iter= 300)\n",
        "#time it \n",
        "t0 = time.time()\n",
        "model.fit(X_train, y_train)\n",
        "print(\"... MLPClassifier model train completed in in {0} seconds\".format(time.time()-t0))\n",
        "#time it \n",
        "t0 = time.time()\n",
        "y_pred = model.predict(X_test)\n",
        "print(\"... Predictions completed in in {0} seconds\".format(time.time()-t0))\n",
        "accuracy = accuracy_score(y_test, y_pred)\n",
        "print(f\"... Accuracy = {accuracy}\")"
      ],
      "metadata": {
        "colab": {
          "base_uri": "https://localhost:8080/"
        },
        "id": "PDPXGsj4SpPK",
        "outputId": "bc4e826b-5a92-44e7-a82c-d036ecd4c271"
      },
      "execution_count": null,
      "outputs": [
        {
          "output_type": "stream",
          "name": "stdout",
          "text": [
            "... MLPClassifier model train completed in in 3.286027193069458 seconds\n",
            "... Predictions completed in in 0.01593923568725586 seconds\n",
            "... Accuracy = 0.8766611295681063\n"
          ]
        }
      ]
    },
    {
      "cell_type": "code",
      "source": [
        "#pytorch classifier \n",
        "EPOCHS = 50\n",
        "BATCH_SIZE = 64\n",
        "LEARNING_RATE = 0.001"
      ],
      "metadata": {
        "id": "E2QkiD3iUNF_"
      },
      "execution_count": null,
      "outputs": []
    },
    {
      "cell_type": "code",
      "source": [
        "## train data\n",
        "class TrainData(Dataset):\n",
        "    \n",
        "    def __init__(self, X_data, y_data):\n",
        "        self.X_data = X_data\n",
        "        self.y_data = y_data\n",
        "        \n",
        "    def __getitem__(self, index):\n",
        "        return self.X_data[index], self.y_data[index]\n",
        "        \n",
        "    def __len__ (self):\n",
        "        return len(self.X_data)\n",
        "\n",
        "\n",
        "train_data = TrainData(torch.FloatTensor(X_train.values), \n",
        "                       torch.FloatTensor(y_train.values))\n",
        "## test data    \n",
        "class TestData(Dataset):\n",
        "    \n",
        "    def __init__(self, X_data):\n",
        "        self.X_data = X_data\n",
        "        \n",
        "    def __getitem__(self, index):\n",
        "        return self.X_data[index]\n",
        "        \n",
        "    def __len__ (self):\n",
        "        return len(self.X_data)\n",
        "    \n",
        "\n",
        "test_data = TestData(torch.FloatTensor(X_test.values))"
      ],
      "metadata": {
        "id": "8CvpnG-TuS2b"
      },
      "execution_count": null,
      "outputs": []
    },
    {
      "cell_type": "code",
      "source": [
        "train_loader = DataLoader(dataset=train_data, batch_size=BATCH_SIZE, shuffle=True)\n",
        "test_loader = DataLoader(dataset=test_data, batch_size=1)"
      ],
      "metadata": {
        "id": "hq9E9yBNuWt-"
      },
      "execution_count": null,
      "outputs": []
    },
    {
      "cell_type": "code",
      "source": [
        "class BinaryClassification(nn.Module):\n",
        "    def __init__(self):\n",
        "        super(BinaryClassification, self).__init__()\n",
        "        # Number of input features is 12.\n",
        "        self.layer_1 = nn.Linear(8, 64) \n",
        "        self.layer_2 = nn.Linear(64, 64)\n",
        "        self.layer_out = nn.Linear(64, 1) \n",
        "        \n",
        "        self.relu = nn.ReLU()\n",
        "        self.dropout = nn.Dropout(p=0.1)\n",
        "        self.batchnorm1 = nn.BatchNorm1d(64)\n",
        "        self.batchnorm2 = nn.BatchNorm1d(64)\n",
        "        \n",
        "    def forward(self, inputs):\n",
        "        x = self.relu(self.layer_1(inputs))\n",
        "        x = self.batchnorm1(x)\n",
        "        x = self.relu(self.layer_2(x))\n",
        "        x = self.batchnorm2(x)\n",
        "        x = self.dropout(x)\n",
        "        x = self.layer_out(x)\n",
        "        \n",
        "        return x"
      ],
      "metadata": {
        "id": "ATwuAi_GvZAN"
      },
      "execution_count": null,
      "outputs": []
    },
    {
      "cell_type": "code",
      "source": [
        "device = torch.device(\"cuda:0\" if torch.cuda.is_available() else \"cpu\")\n",
        "print(device)"
      ],
      "metadata": {
        "colab": {
          "base_uri": "https://localhost:8080/"
        },
        "id": "IxnyN0wNvgjl",
        "outputId": "66fdad6a-ad63-4b26-8054-8acfacd995fd"
      },
      "execution_count": null,
      "outputs": [
        {
          "output_type": "stream",
          "name": "stdout",
          "text": [
            "cuda:0\n"
          ]
        }
      ]
    },
    {
      "cell_type": "code",
      "source": [
        "model = BinaryClassification()\n",
        "model.to(device)\n",
        "print(model)\n",
        "criterion = nn.BCEWithLogitsLoss()\n",
        "optimizer = optim.Adam(model.parameters(), lr=LEARNING_RATE)"
      ],
      "metadata": {
        "colab": {
          "base_uri": "https://localhost:8080/"
        },
        "id": "GPA78Yozvkgo",
        "outputId": "3cf5d410-8549-4546-b68d-1c477198b106"
      },
      "execution_count": null,
      "outputs": [
        {
          "output_type": "stream",
          "name": "stdout",
          "text": [
            "BinaryClassification(\n",
            "  (layer_1): Linear(in_features=8, out_features=64, bias=True)\n",
            "  (layer_2): Linear(in_features=64, out_features=64, bias=True)\n",
            "  (layer_out): Linear(in_features=64, out_features=1, bias=True)\n",
            "  (relu): ReLU()\n",
            "  (dropout): Dropout(p=0.1, inplace=False)\n",
            "  (batchnorm1): BatchNorm1d(64, eps=1e-05, momentum=0.1, affine=True, track_running_stats=True)\n",
            "  (batchnorm2): BatchNorm1d(64, eps=1e-05, momentum=0.1, affine=True, track_running_stats=True)\n",
            ")\n"
          ]
        }
      ]
    },
    {
      "cell_type": "code",
      "source": [
        "def binary_acc(y_pred, y_test):\n",
        "    y_pred_tag = torch.round(torch.sigmoid(y_pred))\n",
        "\n",
        "    correct_results_sum = (y_pred_tag == y_test).sum().float()\n",
        "    acc = correct_results_sum/y_test.shape[0]\n",
        "    acc = torch.round(acc * 100)\n",
        "    \n",
        "    return acc"
      ],
      "metadata": {
        "id": "uMeeihh0vtpp"
      },
      "execution_count": null,
      "outputs": []
    },
    {
      "cell_type": "code",
      "source": [
        "model.train()\n",
        "for e in range(1, EPOCHS+1):\n",
        "    epoch_loss = 0\n",
        "    epoch_acc = 0\n",
        "    for X_batch, y_batch in train_loader:\n",
        "      #  print(X_batch.shape, y_batch.shape)\n",
        "        X_batch, y_batch = X_batch.to(device), y_batch.to(device)\n",
        "        optimizer.zero_grad()\n",
        "        \n",
        "        y_pred = model(X_batch)\n",
        "        \n",
        "        loss = criterion(y_pred, y_batch.unsqueeze(1))\n",
        "        acc = binary_acc(y_pred, y_batch.unsqueeze(1))\n",
        "        \n",
        "        loss.backward()\n",
        "        optimizer.step()\n",
        "        \n",
        "        epoch_loss += loss.item()\n",
        "        epoch_acc += acc.item()\n",
        "        \n",
        "\n",
        "    print(f'Epoch {e+0:03}: | Loss: {epoch_loss/len(train_loader):.5f} | Acc: {epoch_acc/len(train_loader):.3f}')"
      ],
      "metadata": {
        "colab": {
          "base_uri": "https://localhost:8080/"
        },
        "id": "EgiHS1urv0Bu",
        "outputId": "a7862b7b-b912-45b3-a810-4b6411f7ea90"
      },
      "execution_count": null,
      "outputs": [
        {
          "output_type": "stream",
          "name": "stdout",
          "text": [
            "Epoch 001: | Loss: 0.53503 | Acc: 72.451\n",
            "Epoch 002: | Loss: 0.41120 | Acc: 82.177\n",
            "Epoch 003: | Loss: 0.37791 | Acc: 84.168\n",
            "Epoch 004: | Loss: 0.35523 | Acc: 85.646\n",
            "Epoch 005: | Loss: 0.34622 | Acc: 86.619\n",
            "Epoch 006: | Loss: 0.34570 | Acc: 86.389\n",
            "Epoch 007: | Loss: 0.32696 | Acc: 87.009\n",
            "Epoch 008: | Loss: 0.33332 | Acc: 86.965\n",
            "Epoch 009: | Loss: 0.32222 | Acc: 87.761\n",
            "Epoch 010: | Loss: 0.32663 | Acc: 87.274\n",
            "Epoch 011: | Loss: 0.32224 | Acc: 87.646\n",
            "Epoch 012: | Loss: 0.31267 | Acc: 87.903\n",
            "Epoch 013: | Loss: 0.31135 | Acc: 88.257\n",
            "Epoch 014: | Loss: 0.30844 | Acc: 88.212\n",
            "Epoch 015: | Loss: 0.30321 | Acc: 88.257\n",
            "Epoch 016: | Loss: 0.30939 | Acc: 88.009\n",
            "Epoch 017: | Loss: 0.31257 | Acc: 87.973\n",
            "Epoch 018: | Loss: 0.31191 | Acc: 87.903\n",
            "Epoch 019: | Loss: 0.30735 | Acc: 88.407\n",
            "Epoch 020: | Loss: 0.30312 | Acc: 88.566\n",
            "Epoch 021: | Loss: 0.29937 | Acc: 88.991\n",
            "Epoch 022: | Loss: 0.29237 | Acc: 89.044\n",
            "Epoch 023: | Loss: 0.29644 | Acc: 88.965\n",
            "Epoch 024: | Loss: 0.29632 | Acc: 88.814\n",
            "Epoch 025: | Loss: 0.29388 | Acc: 89.150\n",
            "Epoch 026: | Loss: 0.29382 | Acc: 88.938\n",
            "Epoch 027: | Loss: 0.29936 | Acc: 88.593\n",
            "Epoch 028: | Loss: 0.29430 | Acc: 88.814\n",
            "Epoch 029: | Loss: 0.29797 | Acc: 88.850\n",
            "Epoch 030: | Loss: 0.29049 | Acc: 89.133\n",
            "Epoch 031: | Loss: 0.29707 | Acc: 88.770\n",
            "Epoch 032: | Loss: 0.30275 | Acc: 88.690\n",
            "Epoch 033: | Loss: 0.29630 | Acc: 89.248\n",
            "Epoch 034: | Loss: 0.28589 | Acc: 89.221\n",
            "Epoch 035: | Loss: 0.29346 | Acc: 89.150\n",
            "Epoch 036: | Loss: 0.28359 | Acc: 89.389\n",
            "Epoch 037: | Loss: 0.29134 | Acc: 89.221\n",
            "Epoch 038: | Loss: 0.28265 | Acc: 89.186\n",
            "Epoch 039: | Loss: 0.28645 | Acc: 89.372\n",
            "Epoch 040: | Loss: 0.28437 | Acc: 89.248\n",
            "Epoch 041: | Loss: 0.27783 | Acc: 89.469\n",
            "Epoch 042: | Loss: 0.29069 | Acc: 89.027\n",
            "Epoch 043: | Loss: 0.28464 | Acc: 89.363\n",
            "Epoch 044: | Loss: 0.28326 | Acc: 89.566\n",
            "Epoch 045: | Loss: 0.28568 | Acc: 89.425\n",
            "Epoch 046: | Loss: 0.28941 | Acc: 89.540\n",
            "Epoch 047: | Loss: 0.27910 | Acc: 89.265\n",
            "Epoch 048: | Loss: 0.27997 | Acc: 89.310\n",
            "Epoch 049: | Loss: 0.28275 | Acc: 89.478\n",
            "Epoch 050: | Loss: 0.27986 | Acc: 89.363\n"
          ]
        }
      ]
    },
    {
      "cell_type": "code",
      "source": [
        "y_pred_list = []\n",
        "model.eval()\n",
        "with torch.no_grad():\n",
        "    for X_batch in test_loader:\n",
        "        X_batch = X_batch.to(device)\n",
        "        y_test_pred = model(X_batch)\n",
        "        y_test_pred = torch.sigmoid(y_test_pred)\n",
        "        y_pred_tag = torch.round(y_test_pred)\n",
        "        y_pred_list.append(y_pred_tag.cpu().numpy())\n",
        "\n",
        "y_pred_list = [a.squeeze().tolist() for a in y_pred_list]"
      ],
      "metadata": {
        "id": "J9E0iLrVv4RU"
      },
      "execution_count": null,
      "outputs": []
    },
    {
      "cell_type": "code",
      "source": [
        "confusion_matrix(y_test, y_pred_list)"
      ],
      "metadata": {
        "colab": {
          "base_uri": "https://localhost:8080/"
        },
        "id": "lmIdJAPHxmQ7",
        "outputId": "cafb9cfe-f5cf-4c52-8f5a-73b2821543e7"
      },
      "execution_count": null,
      "outputs": [
        {
          "output_type": "execute_result",
          "data": {
            "text/plain": [
              "array([[2101,  329],\n",
              "       [ 196, 2190]])"
            ]
          },
          "metadata": {},
          "execution_count": 45
        }
      ]
    },
    {
      "cell_type": "code",
      "source": [
        "print(classification_report(y_test, y_pred_list))\n"
      ],
      "metadata": {
        "colab": {
          "base_uri": "https://localhost:8080/"
        },
        "id": "VVDF6MHRx_bw",
        "outputId": "e0d8dcf3-7889-491f-8422-dbadb76dd228"
      },
      "execution_count": null,
      "outputs": [
        {
          "output_type": "stream",
          "name": "stdout",
          "text": [
            "              precision    recall  f1-score   support\n",
            "\n",
            "       False       0.91      0.86      0.89      2430\n",
            "        True       0.87      0.92      0.89      2386\n",
            "\n",
            "    accuracy                           0.89      4816\n",
            "   macro avg       0.89      0.89      0.89      4816\n",
            "weighted avg       0.89      0.89      0.89      4816\n",
            "\n"
          ]
        }
      ]
    },
    {
      "cell_type": "code",
      "source": [
        ""
      ],
      "metadata": {
        "id": "iQuRRi6Pyd4c"
      },
      "execution_count": null,
      "outputs": []
    }
  ]
}