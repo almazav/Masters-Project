{
  "nbformat": 4,
  "nbformat_minor": 0,
  "metadata": {
    "colab": {
      "name": "GNN_course5.ipynb",
      "provenance": [],
      "collapsed_sections": [],
      "authorship_tag": "ABX9TyPJlOuFD3CxiPFY3wrQrCse",
      "include_colab_link": true
    },
    "kernelspec": {
      "name": "python3",
      "display_name": "Python 3"
    },
    "language_info": {
      "name": "python"
    }
  },
  "cells": [
    {
      "cell_type": "markdown",
      "metadata": {
        "id": "view-in-github",
        "colab_type": "text"
      },
      "source": [
        "<a href=\"https://colab.research.google.com/github/almazav/Masters-Project/blob/main/GNN_course5.ipynb\" target=\"_parent\"><img src=\"https://colab.research.google.com/assets/colab-badge.svg\" alt=\"Open In Colab\"/></a>"
      ]
    },
    {
      "cell_type": "markdown",
      "source": [
        "# Graph Embedding methods 3\n",
        "Downsides from DeepWalk and Node2Vec:\n",
        "* Computationla Expensive\n",
        "* Features are not considered\n",
        "* Cannot predivt embedding for unseen data.<br>\n",
        "Convolution gets rid of these problems\n",
        "\n",
        "## Simple Graph Convolution SGC\n",
        "A simple method is to average the nodes features of neighbour nodes. Lets assume a directional graph with node $a$ having an edge with node $b$ then the average is: $v_a^{(1)} = (v_a^{(0)} + v_b^{(0)})/2$ with the subscript representing the iteration. in general<br>$v_i^{(1)} = ∑_{all neighbour nodes} v_j^{(0)}/(d_i + 1)$<br> In matrix form<br> $V^{(1)} = (D + I)^{-1}(A+I)V^{(0)}$<br>Where $d_i$ is number of neighbour nodes, $D$ is the degree matrix, $A$ is the adjecency matrix, $I$ is the identity matrix and $V= [v_0......v_N]$<br>In oreder to define a class-prediction is possible to apply a function with a learnable parameter as follos> <br>$Y = softmax(V^{(k)},𝚯)$, where $𝚯$ is a learnable parameter by taining set.<br> In sumary $V^{k}$ is the final feature vector of each node in the em,bedding space, and $Y$ is a node class-prediction.<br> Downsides of this method\n",
        "* not weighted neighbor nodes\n",
        "* is average the correct operation?\n",
        "\n"
      ],
      "metadata": {
        "id": "QmUSOb4fJky8"
      }
    },
    {
      "cell_type": "markdown",
      "source": [
        "# SGC Example\n",
        "https://github.com/pyg-team/pytorch_geometric/blob/master/examples/sgc.py"
      ],
      "metadata": {
        "id": "Nuq13zg0Jv5u"
      }
    },
    {
      "cell_type": "code",
      "source": [
        "import torch\n",
        "# def format_pytorch_version(version):\n",
        "#   return version.split('+')[0]\n",
        "\n",
        "# TORCH_version = torch.__version__\n",
        "# TORCH = format_pytorch_version(TORCH_version)\n",
        "\n",
        "# def format_cuda_version(version):\n",
        "#   return 'cu' + version.replace('.', '')\n",
        "\n",
        "# CUDA_version = torch.version.cuda\n",
        "# CUDA = format_cuda_version(CUDA_version)\n",
        "\n",
        "# !pip install torch-scatter     -f https://pytorch-geometric.com/whl/torch-{TORCH}+{CUDA}.html\n",
        "# !pip install torch-sparse      -f https://pytorch-geometric.com/whl/torch-{TORCH}+{CUDA}.html\n",
        "# !pip install torch-cluster     -f https://pytorch-geometric.com/whl/torch-{TORCH}+{CUDA}.html\n",
        "# !pip install torch-spline-conv -f https://pytorch-geometric.com/whl/torch-{TORCH}+{CUDA}.html\n",
        "# !pip install torch-geometric \n",
        "\n",
        "from torch_geometric.datasets import Planetoid #\"Cora\"\n",
        "from torch_geometric.nn import SGConv\n",
        "from sklearn.manifold import TSNE\n",
        "import torch.nn.functional as F\n",
        "import matplotlib.pyplot as plt\n"
      ],
      "metadata": {
        "id": "TFfw2yyVleX0"
      },
      "execution_count": 20,
      "outputs": []
    },
    {
      "cell_type": "code",
      "source": [
        "#get data\n",
        "path = \"C:/home/maza/Desktop\"   # directory\n",
        "dataset = Planetoid(path,\"Cora\")"
      ],
      "metadata": {
        "colab": {
          "base_uri": "https://localhost:8080/"
        },
        "id": "97MHiKV8lpan",
        "outputId": "bbd2c5ae-7928-42f2-ba10-bea6e3fe1935"
      },
      "execution_count": 2,
      "outputs": [
        {
          "output_type": "stream",
          "name": "stderr",
          "text": [
            "Downloading https://github.com/kimiyoung/planetoid/raw/master/data/ind.cora.x\n",
            "Downloading https://github.com/kimiyoung/planetoid/raw/master/data/ind.cora.tx\n",
            "Downloading https://github.com/kimiyoung/planetoid/raw/master/data/ind.cora.allx\n",
            "Downloading https://github.com/kimiyoung/planetoid/raw/master/data/ind.cora.y\n",
            "Downloading https://github.com/kimiyoung/planetoid/raw/master/data/ind.cora.ty\n",
            "Downloading https://github.com/kimiyoung/planetoid/raw/master/data/ind.cora.ally\n",
            "Downloading https://github.com/kimiyoung/planetoid/raw/master/data/ind.cora.graph\n",
            "Downloading https://github.com/kimiyoung/planetoid/raw/master/data/ind.cora.test.index\n",
            "Processing...\n",
            "Done!\n"
          ]
        }
      ]
    },
    {
      "cell_type": "code",
      "source": [
        "data = dataset[0]   #tensro representation of planetiod cora \n",
        "#x = nodes,features, y = labels, edge_index = edge list,  mask = split fro training\n",
        "data"
      ],
      "metadata": {
        "colab": {
          "base_uri": "https://localhost:8080/"
        },
        "id": "y8DGzPFtlxaG",
        "outputId": "48cb36af-dd01-4b0b-ed48-cf4e3b164ea8"
      },
      "execution_count": 3,
      "outputs": [
        {
          "output_type": "execute_result",
          "data": {
            "text/plain": [
              "Data(x=[2708, 1433], edge_index=[2, 10556], y=[2708], train_mask=[2708], val_mask=[2708], test_mask=[2708])"
            ]
          },
          "metadata": {},
          "execution_count": 3
        }
      ]
    },
    {
      "cell_type": "code",
      "source": [
        "#construct the model\n",
        "\n",
        "SGC_model = SGConv(in_channels=data.num_features,#Number of features,\n",
        "                   out_channels=dataset.num_classes, #Dimension of embedding,\n",
        "                   K=1,cached=True)"
      ],
      "metadata": {
        "id": "1Ag4Mlbdlyjn"
      },
      "execution_count": 7,
      "outputs": []
    },
    {
      "cell_type": "code",
      "source": [
        "#get embedding\n",
        "print(f'Shape of the original data: {data.x.shape}')\n",
        "print(f'Shape of the embedding data: {SGC_model(data.x,data.edge_index).shape}')"
      ],
      "metadata": {
        "colab": {
          "base_uri": "https://localhost:8080/"
        },
        "id": "yc9fGR8OmLTY",
        "outputId": "5996bfde-082c-41ab-df26-0c2bb6d427b4"
      },
      "execution_count": 9,
      "outputs": [
        {
          "output_type": "stream",
          "name": "stdout",
          "text": [
            "Shape of the original data: torch.Size([2708, 1433])\n",
            "Shape of the embedding data: torch.Size([2708, 7])\n"
          ]
        }
      ]
    },
    {
      "cell_type": "code",
      "source": [
        "# construct the model for classification\n",
        "class SGCNet(torch.nn.Module):\n",
        "  def __init__(self):\n",
        "        super().__init__()\n",
        "        self.conv1 = SGConv(in_channels=data.num_features,#Number of features,\n",
        "                   out_channels=dataset.num_classes, #Dimension of embedding,\n",
        "                   K=1,cached=True)\n",
        "\n",
        "  def forward(self):\n",
        "      \n",
        "      x = self.conv1(data.x, data.edge_index) # applying convolution to data \n",
        "      # computation of log softmax\n",
        "      return F.log_softmax(x, dim=1)"
      ],
      "metadata": {
        "id": "X0ewlJskozsG"
      },
      "execution_count": 14,
      "outputs": []
    },
    {
      "cell_type": "code",
      "source": [
        "device = torch.device('cuda' if torch.cuda.is_available() else 'cpu')\n",
        "SGC_model, data = SGCNet().to(device), data.to(device)\n",
        "optimizer = torch.optim.Adam(SGC_model.parameters(), lr=0.2, weight_decay=0.005) # we dont need batches "
      ],
      "metadata": {
        "id": "0_TXXFBxrp0d"
      },
      "execution_count": 15,
      "outputs": []
    },
    {
      "cell_type": "code",
      "source": [
        "#what are the learning parameters\n",
        "for i, parameter in SGC_model.named_parameters():\n",
        "  print(f'Paramater: {i}')\n",
        "  print(f'Shape: {parameter.shape}')\n"
      ],
      "metadata": {
        "colab": {
          "base_uri": "https://localhost:8080/"
        },
        "id": "BjfAIk5FsVui",
        "outputId": "86bfc10e-00b7-4e44-a548-b3c55f6ff826"
      },
      "execution_count": 16,
      "outputs": [
        {
          "output_type": "stream",
          "name": "stdout",
          "text": [
            "Paramater: conv1.lin.weight\n",
            "Shape: torch.Size([7, 1433])\n",
            "Paramater: conv1.lin.bias\n",
            "Shape: torch.Size([7])\n"
          ]
        }
      ]
    },
    {
      "cell_type": "code",
      "source": [
        "# train function\n",
        "def train():\n",
        "  SGC_model.train() #set the training model to be true \n",
        "  optimizer.zero_grad() #reset the gradient\n",
        "  predicted_y = SGC_model() # predivted y in log softmax prob\n",
        "  true_y = data.y #true labels\n",
        "  losses = F.nll_loss(predicted_y[data.train_mask], true_y[data.train_mask])\n",
        "  losses.backward()\n",
        "  optimizer.step()  # update the parameters sucvh that it minimize the losses\n",
        "  "
      ],
      "metadata": {
        "id": "tFeP9Kd9t7Ki"
      },
      "execution_count": 17,
      "outputs": []
    },
    {
      "cell_type": "code",
      "source": [
        "#test function\n",
        "def test():\n",
        "    SGC_model.eval()   # set the model .training false\n",
        "    logits= SGC_model()  #log prob of all data \n",
        "    accs=  []  \n",
        "    for _, mask in data('train_mask', 'val_mask', 'test_mask'):\n",
        "        pred = logits[mask].max(1)[1]  #transform the log prob to true label\n",
        "        acc = pred.eq(data.y[mask]).sum().item() / mask.sum().item()\n",
        "        accs.append(acc)\n",
        "    return accs"
      ],
      "metadata": {
        "id": "YTv1xY8EwO1w"
      },
      "execution_count": 18,
      "outputs": []
    },
    {
      "cell_type": "code",
      "source": [
        "#put everthing together\n",
        "best_val_acc = test_acc = 0\n",
        "for epoch in range(1, 101):\n",
        "    train()\n",
        "    train_acc, val_acc, tmp_test_acc = test()\n",
        "    if val_acc > best_val_acc:\n",
        "        best_val_acc = val_acc\n",
        "        test_acc = tmp_test_acc\n",
        "    print(f'Epoch: {epoch:03d}, Train: {train_acc:.4f}, '\n",
        "          f'Val: {best_val_acc:.4f}, Test: {test_acc:.4f}')"
      ],
      "metadata": {
        "colab": {
          "base_uri": "https://localhost:8080/"
        },
        "id": "SmfUxGtjy0rN",
        "outputId": "8fcc2f3b-7769-463e-99b9-0d8e0b3b0edb"
      },
      "execution_count": 19,
      "outputs": [
        {
          "output_type": "stream",
          "name": "stdout",
          "text": [
            "Epoch: 001, Train: 0.9571, Val: 0.5020, Test: 0.5540\n",
            "Epoch: 002, Train: 0.9929, Val: 0.7340, Test: 0.7610\n",
            "Epoch: 003, Train: 0.9929, Val: 0.7340, Test: 0.7610\n",
            "Epoch: 004, Train: 1.0000, Val: 0.7340, Test: 0.7610\n",
            "Epoch: 005, Train: 0.9857, Val: 0.7340, Test: 0.7610\n",
            "Epoch: 006, Train: 0.9857, Val: 0.7340, Test: 0.7610\n",
            "Epoch: 007, Train: 1.0000, Val: 0.7340, Test: 0.7610\n",
            "Epoch: 008, Train: 1.0000, Val: 0.7340, Test: 0.7610\n",
            "Epoch: 009, Train: 1.0000, Val: 0.7340, Test: 0.7610\n",
            "Epoch: 010, Train: 1.0000, Val: 0.7380, Test: 0.7770\n",
            "Epoch: 011, Train: 0.9929, Val: 0.7380, Test: 0.7770\n",
            "Epoch: 012, Train: 0.9929, Val: 0.7440, Test: 0.7740\n",
            "Epoch: 013, Train: 1.0000, Val: 0.7600, Test: 0.7740\n",
            "Epoch: 014, Train: 1.0000, Val: 0.7600, Test: 0.7740\n",
            "Epoch: 015, Train: 1.0000, Val: 0.7600, Test: 0.7740\n",
            "Epoch: 016, Train: 1.0000, Val: 0.7600, Test: 0.7740\n",
            "Epoch: 017, Train: 1.0000, Val: 0.7600, Test: 0.7740\n",
            "Epoch: 018, Train: 1.0000, Val: 0.7600, Test: 0.7740\n",
            "Epoch: 019, Train: 1.0000, Val: 0.7600, Test: 0.7740\n",
            "Epoch: 020, Train: 1.0000, Val: 0.7600, Test: 0.7740\n",
            "Epoch: 021, Train: 1.0000, Val: 0.7600, Test: 0.7740\n",
            "Epoch: 022, Train: 1.0000, Val: 0.7600, Test: 0.7740\n",
            "Epoch: 023, Train: 0.9929, Val: 0.7600, Test: 0.7740\n",
            "Epoch: 024, Train: 1.0000, Val: 0.7600, Test: 0.7740\n",
            "Epoch: 025, Train: 1.0000, Val: 0.7600, Test: 0.7740\n",
            "Epoch: 026, Train: 1.0000, Val: 0.7620, Test: 0.7810\n",
            "Epoch: 027, Train: 1.0000, Val: 0.7620, Test: 0.7810\n",
            "Epoch: 028, Train: 1.0000, Val: 0.7620, Test: 0.7810\n",
            "Epoch: 029, Train: 1.0000, Val: 0.7620, Test: 0.7810\n",
            "Epoch: 030, Train: 1.0000, Val: 0.7620, Test: 0.7810\n",
            "Epoch: 031, Train: 1.0000, Val: 0.7620, Test: 0.7810\n",
            "Epoch: 032, Train: 1.0000, Val: 0.7620, Test: 0.7810\n",
            "Epoch: 033, Train: 1.0000, Val: 0.7680, Test: 0.7840\n",
            "Epoch: 034, Train: 1.0000, Val: 0.7680, Test: 0.7840\n",
            "Epoch: 035, Train: 1.0000, Val: 0.7680, Test: 0.7840\n",
            "Epoch: 036, Train: 1.0000, Val: 0.7680, Test: 0.7840\n",
            "Epoch: 037, Train: 1.0000, Val: 0.7680, Test: 0.7840\n",
            "Epoch: 038, Train: 1.0000, Val: 0.7680, Test: 0.7840\n",
            "Epoch: 039, Train: 1.0000, Val: 0.7680, Test: 0.7840\n",
            "Epoch: 040, Train: 1.0000, Val: 0.7680, Test: 0.7840\n",
            "Epoch: 041, Train: 1.0000, Val: 0.7740, Test: 0.7870\n",
            "Epoch: 042, Train: 1.0000, Val: 0.7800, Test: 0.7920\n",
            "Epoch: 043, Train: 1.0000, Val: 0.7800, Test: 0.7920\n",
            "Epoch: 044, Train: 1.0000, Val: 0.7800, Test: 0.7920\n",
            "Epoch: 045, Train: 1.0000, Val: 0.7800, Test: 0.7920\n",
            "Epoch: 046, Train: 1.0000, Val: 0.7800, Test: 0.7920\n",
            "Epoch: 047, Train: 1.0000, Val: 0.7800, Test: 0.7920\n",
            "Epoch: 048, Train: 1.0000, Val: 0.7800, Test: 0.7920\n",
            "Epoch: 049, Train: 1.0000, Val: 0.7800, Test: 0.7920\n",
            "Epoch: 050, Train: 1.0000, Val: 0.7800, Test: 0.7920\n",
            "Epoch: 051, Train: 1.0000, Val: 0.7800, Test: 0.7920\n",
            "Epoch: 052, Train: 1.0000, Val: 0.7800, Test: 0.7920\n",
            "Epoch: 053, Train: 1.0000, Val: 0.7800, Test: 0.7920\n",
            "Epoch: 054, Train: 1.0000, Val: 0.7800, Test: 0.7920\n",
            "Epoch: 055, Train: 1.0000, Val: 0.7800, Test: 0.7920\n",
            "Epoch: 056, Train: 1.0000, Val: 0.7800, Test: 0.7920\n",
            "Epoch: 057, Train: 1.0000, Val: 0.7800, Test: 0.7920\n",
            "Epoch: 058, Train: 1.0000, Val: 0.7800, Test: 0.7920\n",
            "Epoch: 059, Train: 1.0000, Val: 0.7800, Test: 0.7920\n",
            "Epoch: 060, Train: 1.0000, Val: 0.7800, Test: 0.7920\n",
            "Epoch: 061, Train: 1.0000, Val: 0.7800, Test: 0.7920\n",
            "Epoch: 062, Train: 1.0000, Val: 0.7800, Test: 0.7920\n",
            "Epoch: 063, Train: 1.0000, Val: 0.7800, Test: 0.7920\n",
            "Epoch: 064, Train: 1.0000, Val: 0.7800, Test: 0.7920\n",
            "Epoch: 065, Train: 1.0000, Val: 0.7800, Test: 0.7920\n",
            "Epoch: 066, Train: 1.0000, Val: 0.7800, Test: 0.7920\n",
            "Epoch: 067, Train: 1.0000, Val: 0.7800, Test: 0.7920\n",
            "Epoch: 068, Train: 1.0000, Val: 0.7800, Test: 0.7920\n",
            "Epoch: 069, Train: 1.0000, Val: 0.7800, Test: 0.7920\n",
            "Epoch: 070, Train: 1.0000, Val: 0.7800, Test: 0.7920\n",
            "Epoch: 071, Train: 1.0000, Val: 0.7800, Test: 0.7920\n",
            "Epoch: 072, Train: 1.0000, Val: 0.7800, Test: 0.7920\n",
            "Epoch: 073, Train: 1.0000, Val: 0.7800, Test: 0.7920\n",
            "Epoch: 074, Train: 1.0000, Val: 0.7800, Test: 0.7920\n",
            "Epoch: 075, Train: 1.0000, Val: 0.7800, Test: 0.7920\n",
            "Epoch: 076, Train: 1.0000, Val: 0.7800, Test: 0.7920\n",
            "Epoch: 077, Train: 1.0000, Val: 0.7800, Test: 0.7920\n",
            "Epoch: 078, Train: 1.0000, Val: 0.7800, Test: 0.7920\n",
            "Epoch: 079, Train: 1.0000, Val: 0.7800, Test: 0.7920\n",
            "Epoch: 080, Train: 1.0000, Val: 0.7800, Test: 0.7920\n",
            "Epoch: 081, Train: 1.0000, Val: 0.7800, Test: 0.7920\n",
            "Epoch: 082, Train: 1.0000, Val: 0.7800, Test: 0.7920\n",
            "Epoch: 083, Train: 1.0000, Val: 0.7800, Test: 0.7920\n",
            "Epoch: 084, Train: 1.0000, Val: 0.7800, Test: 0.7920\n",
            "Epoch: 085, Train: 1.0000, Val: 0.7800, Test: 0.7920\n",
            "Epoch: 086, Train: 1.0000, Val: 0.7800, Test: 0.7920\n",
            "Epoch: 087, Train: 1.0000, Val: 0.7800, Test: 0.7920\n",
            "Epoch: 088, Train: 1.0000, Val: 0.7800, Test: 0.7920\n",
            "Epoch: 089, Train: 1.0000, Val: 0.7800, Test: 0.7920\n",
            "Epoch: 090, Train: 1.0000, Val: 0.7800, Test: 0.7920\n",
            "Epoch: 091, Train: 1.0000, Val: 0.7800, Test: 0.7920\n",
            "Epoch: 092, Train: 1.0000, Val: 0.7800, Test: 0.7920\n",
            "Epoch: 093, Train: 1.0000, Val: 0.7800, Test: 0.7920\n",
            "Epoch: 094, Train: 1.0000, Val: 0.7800, Test: 0.7920\n",
            "Epoch: 095, Train: 1.0000, Val: 0.7800, Test: 0.7920\n",
            "Epoch: 096, Train: 1.0000, Val: 0.7800, Test: 0.7920\n",
            "Epoch: 097, Train: 1.0000, Val: 0.7800, Test: 0.7920\n",
            "Epoch: 098, Train: 1.0000, Val: 0.7800, Test: 0.7920\n",
            "Epoch: 099, Train: 1.0000, Val: 0.7800, Test: 0.7920\n",
            "Epoch: 100, Train: 1.0000, Val: 0.7800, Test: 0.7920\n"
          ]
        }
      ]
    },
    {
      "cell_type": "markdown",
      "source": [
        "The SGC Model achieved an accuracy of 0.79 after 42 epochs, 7% better than the node2vec and considerable faster "
      ],
      "metadata": {
        "id": "9TOiDarKzGn3"
      }
    }
  ]
}