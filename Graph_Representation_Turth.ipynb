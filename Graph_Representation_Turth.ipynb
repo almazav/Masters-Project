{
  "nbformat": 4,
  "nbformat_minor": 0,
  "metadata": {
    "colab": {
      "name": "Graph Representation Turth.ipynb",
      "provenance": [],
      "collapsed_sections": [],
      "toc_visible": true,
      "mount_file_id": "1aHzAtAjb8X508ttxhRaG9FKbh3QX9rFn",
      "authorship_tag": "ABX9TyPPnKJhDtfLXD2hRqNpr3fk",
      "include_colab_link": true
    },
    "kernelspec": {
      "name": "python3",
      "display_name": "Python 3"
    },
    "language_info": {
      "name": "python"
    }
  },
  "cells": [
    {
      "cell_type": "markdown",
      "metadata": {
        "id": "view-in-github",
        "colab_type": "text"
      },
      "source": [
        "<a href=\"https://colab.research.google.com/github/almazav/Masters-Project/blob/main/Graph_Representation_Turth.ipynb\" target=\"_parent\"><img src=\"https://colab.research.google.com/assets/colab-badge.svg\" alt=\"Open In Colab\"/></a>"
      ]
    },
    {
      "cell_type": "markdown",
      "source": [
        "# Graph Representation\n",
        "The Aim of thi notebook is to understand how to reresent the data in a graph form. We will use the truth data and initially use only the hit id, z position and radius as features, in the future other features can be included like the chanels and signal."
      ],
      "metadata": {
        "id": "ooo5R_L0GK-H"
      }
    },
    {
      "cell_type": "code",
      "source": [
        "import pandas as pd\n",
        "import numpy as np\n",
        "import matplotlib.pyplot as plt\n",
        "import torch\n",
        "\n",
        "# def format_pytorch_version(version):\n",
        "#   return version.split('+')[0]\n",
        "\n",
        "# TORCH_version = torch.__version__\n",
        "# TORCH = format_pytorch_version(TORCH_version)\n",
        "\n",
        "# def format_cuda_version(version):\n",
        "#   return 'cu' + version.replace('.', '')\n",
        "\n",
        "# CUDA_version = torch.version.cuda\n",
        "# CUDA = format_cuda_version(CUDA_version)\n",
        "\n",
        "# !pip install torch-scatter     -f https://pytorch-geometric.com/whl/torch-{TORCH}+{CUDA}.html\n",
        "# !pip install torch-sparse      -f https://pytorch-geometric.com/whl/torch-{TORCH}+{CUDA}.html\n",
        "# !pip install torch-cluster     -f https://pytorch-geometric.com/whl/torch-{TORCH}+{CUDA}.html\n",
        "# !pip install torch-spline-conv -f https://pytorch-geometric.com/whl/torch-{TORCH}+{CUDA}.html\n",
        "# !pip install torch-geometric \n",
        "from torch_geometric.data import Data\n",
        "import networkx as nx\n",
        "from torch_geometric.utils.convert import to_networkx\n",
        "import itertools"
      ],
      "metadata": {
        "id": "fS12pI0eG0lQ"
      },
      "execution_count": 138,
      "outputs": []
    },
    {
      "cell_type": "code",
      "source": [
        "#plot parameters\n",
        "FIGSIZE = (14,7)\n",
        "FIG_TITLE = 22\n",
        "FIG_AXIS = 14\n",
        "FIG_LEGEND = 12"
      ],
      "metadata": {
        "id": "VgYgm6vSRG6s"
      },
      "execution_count": 37,
      "outputs": []
    },
    {
      "cell_type": "code",
      "source": [
        "#read the data choose one random event\n",
        "rand_ev = np.random.randint(0,99,1)\n",
        "if len(str(rand_ev[0])) > 1:\n",
        "  event = f'/content/drive/MyDrive/train_100_events/event0000010{str(rand_ev[0])}-truth.csv'\n",
        "else:\n",
        "  event = f'/content/drive/MyDrive/train_100_events/event00000100{str(rand_ev[0])}-truth.csv'\n",
        "df = pd.read_csv(event)\n",
        "df['radius'] = np.sqrt(df.tx**2 + df.ty**2)\n",
        "df.head()"
      ],
      "metadata": {
        "colab": {
          "base_uri": "https://localhost:8080/",
          "height": 206
        },
        "id": "9YzLXvs8Gpe9",
        "outputId": "42ab92b8-2521-4cf3-89d4-07de2efac9f3"
      },
      "execution_count": 99,
      "outputs": [
        {
          "output_type": "execute_result",
          "data": {
            "text/plain": [
              "   hit_id         particle_id       tx         ty      tz       tpx       tpy  \\\n",
              "0       1  265716363744509952 -59.9841  -9.210950 -1502.5 -0.397194 -0.082815   \n",
              "1       2  598991257385041920 -61.2617 -11.219300 -1502.5 -1.490010 -0.256654   \n",
              "2       3  598991188665565184 -80.1521  -5.046720 -1502.5 -0.940408 -0.083245   \n",
              "3       4  202681362124111872 -58.4338  -3.863230 -1502.5 -0.530836 -0.049218   \n",
              "4       5  684551953723686912 -60.4472  -0.548542 -1502.5 -0.441298 -0.025642   \n",
              "\n",
              "       tpz    weight     radius  \n",
              "0 -10.0659  0.000010  60.687180  \n",
              "1 -36.2675  0.000026  62.280563  \n",
              "2 -17.7470  0.000014  80.310824  \n",
              "3 -13.9756  0.000011  58.561365  \n",
              "4 -11.1053  0.000011  60.449689  "
            ],
            "text/html": [
              "\n",
              "  <div id=\"df-386dd2d7-08c8-4380-af08-1d2ac1a97108\">\n",
              "    <div class=\"colab-df-container\">\n",
              "      <div>\n",
              "<style scoped>\n",
              "    .dataframe tbody tr th:only-of-type {\n",
              "        vertical-align: middle;\n",
              "    }\n",
              "\n",
              "    .dataframe tbody tr th {\n",
              "        vertical-align: top;\n",
              "    }\n",
              "\n",
              "    .dataframe thead th {\n",
              "        text-align: right;\n",
              "    }\n",
              "</style>\n",
              "<table border=\"1\" class=\"dataframe\">\n",
              "  <thead>\n",
              "    <tr style=\"text-align: right;\">\n",
              "      <th></th>\n",
              "      <th>hit_id</th>\n",
              "      <th>particle_id</th>\n",
              "      <th>tx</th>\n",
              "      <th>ty</th>\n",
              "      <th>tz</th>\n",
              "      <th>tpx</th>\n",
              "      <th>tpy</th>\n",
              "      <th>tpz</th>\n",
              "      <th>weight</th>\n",
              "      <th>radius</th>\n",
              "    </tr>\n",
              "  </thead>\n",
              "  <tbody>\n",
              "    <tr>\n",
              "      <th>0</th>\n",
              "      <td>1</td>\n",
              "      <td>265716363744509952</td>\n",
              "      <td>-59.9841</td>\n",
              "      <td>-9.210950</td>\n",
              "      <td>-1502.5</td>\n",
              "      <td>-0.397194</td>\n",
              "      <td>-0.082815</td>\n",
              "      <td>-10.0659</td>\n",
              "      <td>0.000010</td>\n",
              "      <td>60.687180</td>\n",
              "    </tr>\n",
              "    <tr>\n",
              "      <th>1</th>\n",
              "      <td>2</td>\n",
              "      <td>598991257385041920</td>\n",
              "      <td>-61.2617</td>\n",
              "      <td>-11.219300</td>\n",
              "      <td>-1502.5</td>\n",
              "      <td>-1.490010</td>\n",
              "      <td>-0.256654</td>\n",
              "      <td>-36.2675</td>\n",
              "      <td>0.000026</td>\n",
              "      <td>62.280563</td>\n",
              "    </tr>\n",
              "    <tr>\n",
              "      <th>2</th>\n",
              "      <td>3</td>\n",
              "      <td>598991188665565184</td>\n",
              "      <td>-80.1521</td>\n",
              "      <td>-5.046720</td>\n",
              "      <td>-1502.5</td>\n",
              "      <td>-0.940408</td>\n",
              "      <td>-0.083245</td>\n",
              "      <td>-17.7470</td>\n",
              "      <td>0.000014</td>\n",
              "      <td>80.310824</td>\n",
              "    </tr>\n",
              "    <tr>\n",
              "      <th>3</th>\n",
              "      <td>4</td>\n",
              "      <td>202681362124111872</td>\n",
              "      <td>-58.4338</td>\n",
              "      <td>-3.863230</td>\n",
              "      <td>-1502.5</td>\n",
              "      <td>-0.530836</td>\n",
              "      <td>-0.049218</td>\n",
              "      <td>-13.9756</td>\n",
              "      <td>0.000011</td>\n",
              "      <td>58.561365</td>\n",
              "    </tr>\n",
              "    <tr>\n",
              "      <th>4</th>\n",
              "      <td>5</td>\n",
              "      <td>684551953723686912</td>\n",
              "      <td>-60.4472</td>\n",
              "      <td>-0.548542</td>\n",
              "      <td>-1502.5</td>\n",
              "      <td>-0.441298</td>\n",
              "      <td>-0.025642</td>\n",
              "      <td>-11.1053</td>\n",
              "      <td>0.000011</td>\n",
              "      <td>60.449689</td>\n",
              "    </tr>\n",
              "  </tbody>\n",
              "</table>\n",
              "</div>\n",
              "      <button class=\"colab-df-convert\" onclick=\"convertToInteractive('df-386dd2d7-08c8-4380-af08-1d2ac1a97108')\"\n",
              "              title=\"Convert this dataframe to an interactive table.\"\n",
              "              style=\"display:none;\">\n",
              "        \n",
              "  <svg xmlns=\"http://www.w3.org/2000/svg\" height=\"24px\"viewBox=\"0 0 24 24\"\n",
              "       width=\"24px\">\n",
              "    <path d=\"M0 0h24v24H0V0z\" fill=\"none\"/>\n",
              "    <path d=\"M18.56 5.44l.94 2.06.94-2.06 2.06-.94-2.06-.94-.94-2.06-.94 2.06-2.06.94zm-11 1L8.5 8.5l.94-2.06 2.06-.94-2.06-.94L8.5 2.5l-.94 2.06-2.06.94zm10 10l.94 2.06.94-2.06 2.06-.94-2.06-.94-.94-2.06-.94 2.06-2.06.94z\"/><path d=\"M17.41 7.96l-1.37-1.37c-.4-.4-.92-.59-1.43-.59-.52 0-1.04.2-1.43.59L10.3 9.45l-7.72 7.72c-.78.78-.78 2.05 0 2.83L4 21.41c.39.39.9.59 1.41.59.51 0 1.02-.2 1.41-.59l7.78-7.78 2.81-2.81c.8-.78.8-2.07 0-2.86zM5.41 20L4 18.59l7.72-7.72 1.47 1.35L5.41 20z\"/>\n",
              "  </svg>\n",
              "      </button>\n",
              "      \n",
              "  <style>\n",
              "    .colab-df-container {\n",
              "      display:flex;\n",
              "      flex-wrap:wrap;\n",
              "      gap: 12px;\n",
              "    }\n",
              "\n",
              "    .colab-df-convert {\n",
              "      background-color: #E8F0FE;\n",
              "      border: none;\n",
              "      border-radius: 50%;\n",
              "      cursor: pointer;\n",
              "      display: none;\n",
              "      fill: #1967D2;\n",
              "      height: 32px;\n",
              "      padding: 0 0 0 0;\n",
              "      width: 32px;\n",
              "    }\n",
              "\n",
              "    .colab-df-convert:hover {\n",
              "      background-color: #E2EBFA;\n",
              "      box-shadow: 0px 1px 2px rgba(60, 64, 67, 0.3), 0px 1px 3px 1px rgba(60, 64, 67, 0.15);\n",
              "      fill: #174EA6;\n",
              "    }\n",
              "\n",
              "    [theme=dark] .colab-df-convert {\n",
              "      background-color: #3B4455;\n",
              "      fill: #D2E3FC;\n",
              "    }\n",
              "\n",
              "    [theme=dark] .colab-df-convert:hover {\n",
              "      background-color: #434B5C;\n",
              "      box-shadow: 0px 1px 3px 1px rgba(0, 0, 0, 0.15);\n",
              "      filter: drop-shadow(0px 1px 2px rgba(0, 0, 0, 0.3));\n",
              "      fill: #FFFFFF;\n",
              "    }\n",
              "  </style>\n",
              "\n",
              "      <script>\n",
              "        const buttonEl =\n",
              "          document.querySelector('#df-386dd2d7-08c8-4380-af08-1d2ac1a97108 button.colab-df-convert');\n",
              "        buttonEl.style.display =\n",
              "          google.colab.kernel.accessAllowed ? 'block' : 'none';\n",
              "\n",
              "        async function convertToInteractive(key) {\n",
              "          const element = document.querySelector('#df-386dd2d7-08c8-4380-af08-1d2ac1a97108');\n",
              "          const dataTable =\n",
              "            await google.colab.kernel.invokeFunction('convertToInteractive',\n",
              "                                                     [key], {});\n",
              "          if (!dataTable) return;\n",
              "\n",
              "          const docLinkHtml = 'Like what you see? Visit the ' +\n",
              "            '<a target=\"_blank\" href=https://colab.research.google.com/notebooks/data_table.ipynb>data table notebook</a>'\n",
              "            + ' to learn more about interactive tables.';\n",
              "          element.innerHTML = '';\n",
              "          dataTable['output_type'] = 'display_data';\n",
              "          await google.colab.output.renderOutput(dataTable, element);\n",
              "          const docLink = document.createElement('div');\n",
              "          docLink.innerHTML = docLinkHtml;\n",
              "          element.appendChild(docLink);\n",
              "        }\n",
              "      </script>\n",
              "    </div>\n",
              "  </div>\n",
              "  "
            ]
          },
          "metadata": {},
          "execution_count": 99
        }
      ]
    },
    {
      "cell_type": "markdown",
      "source": [
        "The truth paths are related to particle id, and lets assume that the hits id are in sequential order, therefore the directed graph will be the sequential order of the hits id as nodes with the edjes between the hits id's"
      ],
      "metadata": {
        "id": "nU2N_MJJIVuz"
      }
    },
    {
      "cell_type": "code",
      "source": [
        "#check how may tracks(particle_id) we have \n",
        "unique_tracks = df.particle_id.unique()\n",
        "print(f'In the event number {str(rand_ev[0])} we have {len(unique_tracks)} tracks')"
      ],
      "metadata": {
        "colab": {
          "base_uri": "https://localhost:8080/"
        },
        "id": "d0ADEJZJJVFA",
        "outputId": "2367d06a-1b32-4ab2-aaf3-7479e56710d6"
      },
      "execution_count": 100,
      "outputs": [
        {
          "output_type": "stream",
          "name": "stdout",
          "text": [
            "In the event number 77 we have 8032 tracks\n"
          ]
        }
      ]
    },
    {
      "cell_type": "code",
      "source": [
        "# lets choose some random events \n",
        "num_tracks = 10\n",
        "rand_tracks = np.random.randint(0, len(unique_tracks), num_tracks)\n",
        "tracks = unique_tracks[rand_tracks]\n"
      ],
      "metadata": {
        "id": "b-j19XxUJW6q"
      },
      "execution_count": 101,
      "outputs": []
    },
    {
      "cell_type": "code",
      "source": [
        "# visualize one track \n",
        "one_track = df.loc[df.particle_id==tracks[3]]\n",
        "one_track"
      ],
      "metadata": {
        "colab": {
          "base_uri": "https://localhost:8080/",
          "height": 425
        },
        "id": "h8xxuissPbee",
        "outputId": "684ca839-57ea-404f-ff86-280804ed29e8"
      },
      "execution_count": 123,
      "outputs": [
        {
          "output_type": "execute_result",
          "data": {
            "text/plain": [
              "       hit_id         particle_id        tx        ty        tz       tpx  \\\n",
              "760       761  450361818162921472  137.1840   83.6704 -1498.000  0.633166   \n",
              "2142     2143  450361818162921472  118.3670   73.4494 -1298.000  0.630134   \n",
              "2153     2154  450361818162921472  118.7420   73.6571 -1302.000  0.630188   \n",
              "3790     3791  450361818162921472   99.6816   62.8859 -1098.000  0.626026   \n",
              "3798     3799  450361818162921472  100.0540   63.0998 -1102.000  0.625430   \n",
              "7890     7891  450361818162921472   73.7162   47.6075  -817.500  0.619390   \n",
              "10286   10287  450361818162921472   62.6864   40.9446  -697.500  0.615195   \n",
              "12718   12719  450361818162921472   53.5568   35.2800  -597.500  0.612875   \n",
              "12789   12790  450361818162921472   54.0124   35.5647  -602.500  0.612272   \n",
              "13854   13855  450361818162921472   26.6950   18.0513  -300.369  0.605019   \n",
              "49860   49861  450361818162921472  274.4380  153.5900 -2945.500  0.627295   \n",
              "50808   50809  450361818162921472  236.7230  134.1010 -2545.500  0.635887   \n",
              "\n",
              "            tpy      tpz    weight      radius  \n",
              "760    0.338996 -6.71914  0.000009  160.686607  \n",
              "2142   0.350074 -6.71948  0.000007  139.303844  \n",
              "2153   0.347536 -6.71902  0.000007  139.731997  \n",
              "3790   0.359785 -6.72028  0.000008  117.860332  \n",
              "3798   0.359434 -6.71946  0.000007  118.289423  \n",
              "7890   0.371370 -6.72131  0.000011   87.752790  \n",
              "10286  0.377954 -6.72211  0.000013   74.873527  \n",
              "12718  0.382594 -6.72265  0.000019   64.132747  \n",
              "12789  0.383168 -6.72212  0.000016   64.669833  \n",
              "13854  0.396993 -6.72355  0.000023   32.225339  \n",
              "49860  0.332873 -6.70854  0.000014  314.493408  \n",
              "50808  0.319290 -6.71895  0.000012  272.067743  "
            ],
            "text/html": [
              "\n",
              "  <div id=\"df-0df6b4ef-021c-44ac-b348-ec9a07f7cc61\">\n",
              "    <div class=\"colab-df-container\">\n",
              "      <div>\n",
              "<style scoped>\n",
              "    .dataframe tbody tr th:only-of-type {\n",
              "        vertical-align: middle;\n",
              "    }\n",
              "\n",
              "    .dataframe tbody tr th {\n",
              "        vertical-align: top;\n",
              "    }\n",
              "\n",
              "    .dataframe thead th {\n",
              "        text-align: right;\n",
              "    }\n",
              "</style>\n",
              "<table border=\"1\" class=\"dataframe\">\n",
              "  <thead>\n",
              "    <tr style=\"text-align: right;\">\n",
              "      <th></th>\n",
              "      <th>hit_id</th>\n",
              "      <th>particle_id</th>\n",
              "      <th>tx</th>\n",
              "      <th>ty</th>\n",
              "      <th>tz</th>\n",
              "      <th>tpx</th>\n",
              "      <th>tpy</th>\n",
              "      <th>tpz</th>\n",
              "      <th>weight</th>\n",
              "      <th>radius</th>\n",
              "    </tr>\n",
              "  </thead>\n",
              "  <tbody>\n",
              "    <tr>\n",
              "      <th>760</th>\n",
              "      <td>761</td>\n",
              "      <td>450361818162921472</td>\n",
              "      <td>137.1840</td>\n",
              "      <td>83.6704</td>\n",
              "      <td>-1498.000</td>\n",
              "      <td>0.633166</td>\n",
              "      <td>0.338996</td>\n",
              "      <td>-6.71914</td>\n",
              "      <td>0.000009</td>\n",
              "      <td>160.686607</td>\n",
              "    </tr>\n",
              "    <tr>\n",
              "      <th>2142</th>\n",
              "      <td>2143</td>\n",
              "      <td>450361818162921472</td>\n",
              "      <td>118.3670</td>\n",
              "      <td>73.4494</td>\n",
              "      <td>-1298.000</td>\n",
              "      <td>0.630134</td>\n",
              "      <td>0.350074</td>\n",
              "      <td>-6.71948</td>\n",
              "      <td>0.000007</td>\n",
              "      <td>139.303844</td>\n",
              "    </tr>\n",
              "    <tr>\n",
              "      <th>2153</th>\n",
              "      <td>2154</td>\n",
              "      <td>450361818162921472</td>\n",
              "      <td>118.7420</td>\n",
              "      <td>73.6571</td>\n",
              "      <td>-1302.000</td>\n",
              "      <td>0.630188</td>\n",
              "      <td>0.347536</td>\n",
              "      <td>-6.71902</td>\n",
              "      <td>0.000007</td>\n",
              "      <td>139.731997</td>\n",
              "    </tr>\n",
              "    <tr>\n",
              "      <th>3790</th>\n",
              "      <td>3791</td>\n",
              "      <td>450361818162921472</td>\n",
              "      <td>99.6816</td>\n",
              "      <td>62.8859</td>\n",
              "      <td>-1098.000</td>\n",
              "      <td>0.626026</td>\n",
              "      <td>0.359785</td>\n",
              "      <td>-6.72028</td>\n",
              "      <td>0.000008</td>\n",
              "      <td>117.860332</td>\n",
              "    </tr>\n",
              "    <tr>\n",
              "      <th>3798</th>\n",
              "      <td>3799</td>\n",
              "      <td>450361818162921472</td>\n",
              "      <td>100.0540</td>\n",
              "      <td>63.0998</td>\n",
              "      <td>-1102.000</td>\n",
              "      <td>0.625430</td>\n",
              "      <td>0.359434</td>\n",
              "      <td>-6.71946</td>\n",
              "      <td>0.000007</td>\n",
              "      <td>118.289423</td>\n",
              "    </tr>\n",
              "    <tr>\n",
              "      <th>7890</th>\n",
              "      <td>7891</td>\n",
              "      <td>450361818162921472</td>\n",
              "      <td>73.7162</td>\n",
              "      <td>47.6075</td>\n",
              "      <td>-817.500</td>\n",
              "      <td>0.619390</td>\n",
              "      <td>0.371370</td>\n",
              "      <td>-6.72131</td>\n",
              "      <td>0.000011</td>\n",
              "      <td>87.752790</td>\n",
              "    </tr>\n",
              "    <tr>\n",
              "      <th>10286</th>\n",
              "      <td>10287</td>\n",
              "      <td>450361818162921472</td>\n",
              "      <td>62.6864</td>\n",
              "      <td>40.9446</td>\n",
              "      <td>-697.500</td>\n",
              "      <td>0.615195</td>\n",
              "      <td>0.377954</td>\n",
              "      <td>-6.72211</td>\n",
              "      <td>0.000013</td>\n",
              "      <td>74.873527</td>\n",
              "    </tr>\n",
              "    <tr>\n",
              "      <th>12718</th>\n",
              "      <td>12719</td>\n",
              "      <td>450361818162921472</td>\n",
              "      <td>53.5568</td>\n",
              "      <td>35.2800</td>\n",
              "      <td>-597.500</td>\n",
              "      <td>0.612875</td>\n",
              "      <td>0.382594</td>\n",
              "      <td>-6.72265</td>\n",
              "      <td>0.000019</td>\n",
              "      <td>64.132747</td>\n",
              "    </tr>\n",
              "    <tr>\n",
              "      <th>12789</th>\n",
              "      <td>12790</td>\n",
              "      <td>450361818162921472</td>\n",
              "      <td>54.0124</td>\n",
              "      <td>35.5647</td>\n",
              "      <td>-602.500</td>\n",
              "      <td>0.612272</td>\n",
              "      <td>0.383168</td>\n",
              "      <td>-6.72212</td>\n",
              "      <td>0.000016</td>\n",
              "      <td>64.669833</td>\n",
              "    </tr>\n",
              "    <tr>\n",
              "      <th>13854</th>\n",
              "      <td>13855</td>\n",
              "      <td>450361818162921472</td>\n",
              "      <td>26.6950</td>\n",
              "      <td>18.0513</td>\n",
              "      <td>-300.369</td>\n",
              "      <td>0.605019</td>\n",
              "      <td>0.396993</td>\n",
              "      <td>-6.72355</td>\n",
              "      <td>0.000023</td>\n",
              "      <td>32.225339</td>\n",
              "    </tr>\n",
              "    <tr>\n",
              "      <th>49860</th>\n",
              "      <td>49861</td>\n",
              "      <td>450361818162921472</td>\n",
              "      <td>274.4380</td>\n",
              "      <td>153.5900</td>\n",
              "      <td>-2945.500</td>\n",
              "      <td>0.627295</td>\n",
              "      <td>0.332873</td>\n",
              "      <td>-6.70854</td>\n",
              "      <td>0.000014</td>\n",
              "      <td>314.493408</td>\n",
              "    </tr>\n",
              "    <tr>\n",
              "      <th>50808</th>\n",
              "      <td>50809</td>\n",
              "      <td>450361818162921472</td>\n",
              "      <td>236.7230</td>\n",
              "      <td>134.1010</td>\n",
              "      <td>-2545.500</td>\n",
              "      <td>0.635887</td>\n",
              "      <td>0.319290</td>\n",
              "      <td>-6.71895</td>\n",
              "      <td>0.000012</td>\n",
              "      <td>272.067743</td>\n",
              "    </tr>\n",
              "  </tbody>\n",
              "</table>\n",
              "</div>\n",
              "      <button class=\"colab-df-convert\" onclick=\"convertToInteractive('df-0df6b4ef-021c-44ac-b348-ec9a07f7cc61')\"\n",
              "              title=\"Convert this dataframe to an interactive table.\"\n",
              "              style=\"display:none;\">\n",
              "        \n",
              "  <svg xmlns=\"http://www.w3.org/2000/svg\" height=\"24px\"viewBox=\"0 0 24 24\"\n",
              "       width=\"24px\">\n",
              "    <path d=\"M0 0h24v24H0V0z\" fill=\"none\"/>\n",
              "    <path d=\"M18.56 5.44l.94 2.06.94-2.06 2.06-.94-2.06-.94-.94-2.06-.94 2.06-2.06.94zm-11 1L8.5 8.5l.94-2.06 2.06-.94-2.06-.94L8.5 2.5l-.94 2.06-2.06.94zm10 10l.94 2.06.94-2.06 2.06-.94-2.06-.94-.94-2.06-.94 2.06-2.06.94z\"/><path d=\"M17.41 7.96l-1.37-1.37c-.4-.4-.92-.59-1.43-.59-.52 0-1.04.2-1.43.59L10.3 9.45l-7.72 7.72c-.78.78-.78 2.05 0 2.83L4 21.41c.39.39.9.59 1.41.59.51 0 1.02-.2 1.41-.59l7.78-7.78 2.81-2.81c.8-.78.8-2.07 0-2.86zM5.41 20L4 18.59l7.72-7.72 1.47 1.35L5.41 20z\"/>\n",
              "  </svg>\n",
              "      </button>\n",
              "      \n",
              "  <style>\n",
              "    .colab-df-container {\n",
              "      display:flex;\n",
              "      flex-wrap:wrap;\n",
              "      gap: 12px;\n",
              "    }\n",
              "\n",
              "    .colab-df-convert {\n",
              "      background-color: #E8F0FE;\n",
              "      border: none;\n",
              "      border-radius: 50%;\n",
              "      cursor: pointer;\n",
              "      display: none;\n",
              "      fill: #1967D2;\n",
              "      height: 32px;\n",
              "      padding: 0 0 0 0;\n",
              "      width: 32px;\n",
              "    }\n",
              "\n",
              "    .colab-df-convert:hover {\n",
              "      background-color: #E2EBFA;\n",
              "      box-shadow: 0px 1px 2px rgba(60, 64, 67, 0.3), 0px 1px 3px 1px rgba(60, 64, 67, 0.15);\n",
              "      fill: #174EA6;\n",
              "    }\n",
              "\n",
              "    [theme=dark] .colab-df-convert {\n",
              "      background-color: #3B4455;\n",
              "      fill: #D2E3FC;\n",
              "    }\n",
              "\n",
              "    [theme=dark] .colab-df-convert:hover {\n",
              "      background-color: #434B5C;\n",
              "      box-shadow: 0px 1px 3px 1px rgba(0, 0, 0, 0.15);\n",
              "      filter: drop-shadow(0px 1px 2px rgba(0, 0, 0, 0.3));\n",
              "      fill: #FFFFFF;\n",
              "    }\n",
              "  </style>\n",
              "\n",
              "      <script>\n",
              "        const buttonEl =\n",
              "          document.querySelector('#df-0df6b4ef-021c-44ac-b348-ec9a07f7cc61 button.colab-df-convert');\n",
              "        buttonEl.style.display =\n",
              "          google.colab.kernel.accessAllowed ? 'block' : 'none';\n",
              "\n",
              "        async function convertToInteractive(key) {\n",
              "          const element = document.querySelector('#df-0df6b4ef-021c-44ac-b348-ec9a07f7cc61');\n",
              "          const dataTable =\n",
              "            await google.colab.kernel.invokeFunction('convertToInteractive',\n",
              "                                                     [key], {});\n",
              "          if (!dataTable) return;\n",
              "\n",
              "          const docLinkHtml = 'Like what you see? Visit the ' +\n",
              "            '<a target=\"_blank\" href=https://colab.research.google.com/notebooks/data_table.ipynb>data table notebook</a>'\n",
              "            + ' to learn more about interactive tables.';\n",
              "          element.innerHTML = '';\n",
              "          dataTable['output_type'] = 'display_data';\n",
              "          await google.colab.output.renderOutput(dataTable, element);\n",
              "          const docLink = document.createElement('div');\n",
              "          docLink.innerHTML = docLinkHtml;\n",
              "          element.appendChild(docLink);\n",
              "        }\n",
              "      </script>\n",
              "    </div>\n",
              "  </div>\n",
              "  "
            ]
          },
          "metadata": {},
          "execution_count": 123
        }
      ]
    },
    {
      "cell_type": "code",
      "source": [
        "#plot\n",
        "fig, ax = plt.subplots(figsize = FIGSIZE)\n",
        "ax.scatter(one_track.tz,one_track.radius)\n",
        "ax.set_title('One Particle id Hits', fontsize = FIG_TITLE)\n",
        "ax.set_xlabel('z (mm)', fontsize = FIG_AXIS)\n",
        "ax.set_ylabel('R (mm)', fontsize = FIG_AXIS)\n",
        "plt.show()"
      ],
      "metadata": {
        "colab": {
          "base_uri": "https://localhost:8080/",
          "height": 467
        },
        "id": "pQU312KqPcKk",
        "outputId": "6ae50163-3c41-492e-b521-90b8f4445cea"
      },
      "execution_count": 124,
      "outputs": [
        {
          "output_type": "display_data",
          "data": {
            "text/plain": [
              "<Figure size 1008x504 with 1 Axes>"
            ],
            "image/png": "[encoded data removed]"
          },
          "metadata": {
            "needs_background": "light"
          }
        }
      ]
    },
    {
      "cell_type": "code",
      "source": [
        "# make an edge list from the one particle example \n",
        "# get hits_ids\n",
        "new_id = np.arange(0,len(one_track))   #just for ploting \n",
        "one_track['new_id'] = new_id\n",
        "hits_ids = one_track.hit_id.values\n",
        "edge_list = torch.tensor([\n",
        "                          new_id[:-1],     #source nodes\n",
        "                          new_id[1:]      #target nodes\n",
        "                          ],dtype=torch.long)"
      ],
      "metadata": {
        "colab": {
          "base_uri": "https://localhost:8080/"
        },
        "id": "FYaHz8N3RJl2",
        "outputId": "0632cf10-8e6d-4f18-d589-255a38e5092e"
      },
      "execution_count": 125,
      "outputs": [
        {
          "output_type": "stream",
          "name": "stderr",
          "text": [
            "/usr/local/lib/python3.7/dist-packages/ipykernel_launcher.py:4: SettingWithCopyWarning: \n",
            "A value is trying to be set on a copy of a slice from a DataFrame.\n",
            "Try using .loc[row_indexer,col_indexer] = value instead\n",
            "\n",
            "See the caveats in the documentation: https://pandas.pydata.org/pandas-docs/stable/user_guide/indexing.html#returning-a-view-versus-a-copy\n",
            "  after removing the cwd from sys.path.\n"
          ]
        }
      ]
    },
    {
      "cell_type": "code",
      "source": [
        "#create a list with the position node features for the given particle id \n",
        "node_feature_list =[]\n",
        "for i in range(len(one_track)):\n",
        "  node_feature_list.append(one_track.loc[one_track.hit_id==hits_ids[i]][['tx','ty','tz','radius']].values[0].tolist())\n",
        "\n",
        "#create a node feature tensor with the node_feature_list info \n",
        "node_features = torch.tensor(node_feature_list,dtype=torch.long)\n"
      ],
      "metadata": {
        "id": "UvFt267xSbVO"
      },
      "execution_count": 126,
      "outputs": []
    },
    {
      "cell_type": "code",
      "source": [
        "#make a data object to store graph information \n",
        "data = Data(x = node_features,edge_index=edge_list)"
      ],
      "metadata": {
        "id": "g771amHKTq_q"
      },
      "execution_count": 127,
      "outputs": []
    },
    {
      "cell_type": "code",
      "source": [
        "#print graph info \n",
        "print(f\"\"\"Number of nodes: {data.num_nodes},\n",
        "Number of edges: {data.num_edges},\n",
        "Number of features per node: {data.num_node_features}\"\"\")"
      ],
      "metadata": {
        "colab": {
          "base_uri": "https://localhost:8080/"
        },
        "id": "D3t-mQZPT3kq",
        "outputId": "60ea7783-a300-41c6-beda-45cd9bc68cfc"
      },
      "execution_count": 128,
      "outputs": [
        {
          "output_type": "stream",
          "name": "stdout",
          "text": [
            "Number of nodes: 12,\n",
            "Number of edges: 11,\n",
            "Number of features per node: 4\n"
          ]
        }
      ]
    },
    {
      "cell_type": "code",
      "source": [
        "#plot the graph\n",
        "G.remove_node(0)\n",
        "G = to_networkx(data)\n",
        "nx.draw_networkx(G)"
      ],
      "metadata": {
        "colab": {
          "base_uri": "https://localhost:8080/",
          "height": 247
        },
        "id": "sMOyOUATUAEJ",
        "outputId": "379ed5e0-7678-4741-a5e7-714e589f5e76"
      },
      "execution_count": 129,
      "outputs": [
        {
          "output_type": "display_data",
          "data": {
            "text/plain": [
              "<Figure size 432x288 with 1 Axes>"
            ],
            "image/png": "[encoded data removed]"
          },
          "metadata": {}
        }
      ]
    },
    {
      "cell_type": "code",
      "source": [
        "#now for the randomly selected \n",
        "#make a scatter plot \n",
        "fig, ax = plt.subplots(figsize = FIGSIZE)\n",
        "for track in tracks:\n",
        "  ax.scatter(df.loc[df.particle_id==track].tz, df.loc[df.particle_id==track].radius, label=f'{track}')\n",
        "ax.set_title('Particle Hits Truth Tracks', fontsize= FIG_TITLE)\n",
        "ax.set_xlabel('z (mm)', fontsize=FIG_AXIS)\n",
        "ax.set_ylabel('r (mm)', fontsize = FIG_AXIS)\n",
        "ax.legend(fontsize = FIG_LEGEND)\n",
        "plt.show()"
      ],
      "metadata": {
        "colab": {
          "base_uri": "https://localhost:8080/",
          "height": 467
        },
        "id": "b6wSsH2DkQjT",
        "outputId": "e18a2a77-8b16-46c6-a6f7-7a1ff43b5756"
      },
      "execution_count": 108,
      "outputs": [
        {
          "output_type": "display_data",
          "data": {
            "text/plain": [
              "<Figure size 1008x504 with 1 Axes>"
            ],
            "image/png": "[encoded data removed]"
          },
          "metadata": {
            "needs_background": "light"
          }
        }
      ]
    },
    {
      "cell_type": "code",
      "source": [
        "#create a df with the selected particles\n",
        "df_some_tracks = df[df.particle_id.isin(tracks)]\n",
        "# get hits_ids just because we are not getting random particles in a real scenario the hits will allways start from zero\n",
        "new_id = np.arange(0,len(df_some_tracks))  \n",
        "df_some_tracks['new_id'] = new_id\n"
      ],
      "metadata": {
        "id": "7YFAAsa5ke-V"
      },
      "execution_count": 117,
      "outputs": []
    },
    {
      "cell_type": "code",
      "source": [
        "#create the edges between nodes\n",
        "#edges are directed\n",
        "source_nodes = []     \n",
        "target_nodes = []\n",
        "for track in tracks:\n",
        "  nodes = df_some_tracks.loc[df.particle_id==track].new_id.values.tolist()\n",
        "  source_nodes.append(nodes[:-1])      #the last node is not conected to anything \n",
        "  target_nodes.append(nodes[1:])\n",
        "\n",
        "source_nodes = list(itertools.chain(*source_nodes))\n",
        "target_nodes = list(itertools.chain(*target_nodes))\n"
      ],
      "metadata": {
        "id": "jMtQ0b83rq6C"
      },
      "execution_count": 143,
      "outputs": []
    },
    {
      "cell_type": "code",
      "source": [
        "edge_list = torch.tensor([\n",
        "                          source_nodes,     #source nodes\n",
        "                          target_nodes     #target nodes\n",
        "                          ],dtype=torch.long)"
      ],
      "metadata": {
        "id": "aynrHUoetRYf"
      },
      "execution_count": 144,
      "outputs": []
    },
    {
      "cell_type": "code",
      "source": [
        "#create node features\n",
        "#create a list with the position node features for the given particle id \n",
        "node_feature_list =[]\n",
        "for track in tracks:\n",
        "  temp_df = df_some_tracks.loc[df_some_tracks.particle_id==track]\n",
        "  ids = temp_df.new_id.values\n",
        "  for id in ids:\n",
        "    node_feature_list.append(temp_df.loc[temp_df.new_id==id][['tx','ty','tz','radius']].values[0].tolist())"
      ],
      "metadata": {
        "id": "NX-0EnTz3TuU"
      },
      "execution_count": 152,
      "outputs": []
    },
    {
      "cell_type": "code",
      "source": [
        "#create a node feature tensor with the node_feature_list info \n",
        "node_features = torch.tensor(node_feature_list,dtype=torch.long)"
      ],
      "metadata": {
        "id": "7-AYB-YP4G6y"
      },
      "execution_count": 153,
      "outputs": []
    },
    {
      "cell_type": "code",
      "source": [
        "#make a data object to store graph information \n",
        "data = Data(x = node_features,edge_index=edge_list)"
      ],
      "metadata": {
        "id": "J0r1MOfx7hDF"
      },
      "execution_count": 155,
      "outputs": []
    },
    {
      "cell_type": "code",
      "source": [
        "#print graph info \n",
        "print(f\"\"\"Number of nodes: {data.num_nodes},\n",
        "Number of edges: {data.num_edges},\n",
        "Number of features per node: {data.num_node_features}\"\"\")"
      ],
      "metadata": {
        "colab": {
          "base_uri": "https://localhost:8080/"
        },
        "id": "DXgCWVBa6c3a",
        "outputId": "227c2ff4-866b-4c4d-a5cd-49da3d5b97da"
      },
      "execution_count": 156,
      "outputs": [
        {
          "output_type": "stream",
          "name": "stdout",
          "text": [
            "Number of nodes: 104,\n",
            "Number of edges: 94,\n",
            "Number of features per node: 4\n"
          ]
        }
      ]
    },
    {
      "cell_type": "code",
      "source": [
        "#plot the graph\n",
        "G.remove_node(0)\n",
        "G = to_networkx(data)\n",
        "nx.draw_networkx(G)"
      ],
      "metadata": {
        "colab": {
          "base_uri": "https://localhost:8080/",
          "height": 247
        },
        "id": "sYz1sPbl7YqK",
        "outputId": "19f0f4ef-6a5f-4f5c-bba7-dcec950040cf"
      },
      "execution_count": 157,
      "outputs": [
        {
          "output_type": "display_data",
          "data": {
            "text/plain": [
              "<Figure size 432x288 with 1 Axes>"
            ],
            "image/png": "[encoded data removed]"
          },
          "metadata": {}
        }
      ]
    },
    {
      "cell_type": "code",
      "source": [
        "df_some_tracks.loc[df_some_tracks.particle_id==585474342486290434]\n"
      ],
      "metadata": {
        "colab": {
          "base_uri": "https://localhost:8080/",
          "height": 112
        },
        "id": "78V1xMJ57mwI",
        "outputId": "168fd390-31e6-4069-9724-22f86d13de47"
      },
      "execution_count": 159,
      "outputs": [
        {
          "output_type": "execute_result",
          "data": {
            "text/plain": [
              "       hit_id         particle_id       tx       ty       tz       tpx  \\\n",
              "84973   84974  585474342486290434 -750.875  334.484 -912.883 -0.068506   \n",
              "84977   84978  585474342486290434 -747.426  327.766 -916.253 -0.072345   \n",
              "\n",
              "            tpy       tpz  weight      radius  new_id  \n",
              "84973  0.136812  0.069793     0.0  822.005360      97  \n",
              "84977  0.135954  0.068753     0.0  816.134901      98  "
            ],
            "text/html": [
              "\n",
              "  <div id=\"df-d7a81280-baa0-440e-aeb1-9810d8974314\">\n",
              "    <div class=\"colab-df-container\">\n",
              "      <div>\n",
              "<style scoped>\n",
              "    .dataframe tbody tr th:only-of-type {\n",
              "        vertical-align: middle;\n",
              "    }\n",
              "\n",
              "    .dataframe tbody tr th {\n",
              "        vertical-align: top;\n",
              "    }\n",
              "\n",
              "    .dataframe thead th {\n",
              "        text-align: right;\n",
              "    }\n",
              "</style>\n",
              "<table border=\"1\" class=\"dataframe\">\n",
              "  <thead>\n",
              "    <tr style=\"text-align: right;\">\n",
              "      <th></th>\n",
              "      <th>hit_id</th>\n",
              "      <th>particle_id</th>\n",
              "      <th>tx</th>\n",
              "      <th>ty</th>\n",
              "      <th>tz</th>\n",
              "      <th>tpx</th>\n",
              "      <th>tpy</th>\n",
              "      <th>tpz</th>\n",
              "      <th>weight</th>\n",
              "      <th>radius</th>\n",
              "      <th>new_id</th>\n",
              "    </tr>\n",
              "  </thead>\n",
              "  <tbody>\n",
              "    <tr>\n",
              "      <th>84973</th>\n",
              "      <td>84974</td>\n",
              "      <td>585474342486290434</td>\n",
              "      <td>-750.875</td>\n",
              "      <td>334.484</td>\n",
              "      <td>-912.883</td>\n",
              "      <td>-0.068506</td>\n",
              "      <td>0.136812</td>\n",
              "      <td>0.069793</td>\n",
              "      <td>0.0</td>\n",
              "      <td>822.005360</td>\n",
              "      <td>97</td>\n",
              "    </tr>\n",
              "    <tr>\n",
              "      <th>84977</th>\n",
              "      <td>84978</td>\n",
              "      <td>585474342486290434</td>\n",
              "      <td>-747.426</td>\n",
              "      <td>327.766</td>\n",
              "      <td>-916.253</td>\n",
              "      <td>-0.072345</td>\n",
              "      <td>0.135954</td>\n",
              "      <td>0.068753</td>\n",
              "      <td>0.0</td>\n",
              "      <td>816.134901</td>\n",
              "      <td>98</td>\n",
              "    </tr>\n",
              "  </tbody>\n",
              "</table>\n",
              "</div>\n",
              "      <button class=\"colab-df-convert\" onclick=\"convertToInteractive('df-d7a81280-baa0-440e-aeb1-9810d8974314')\"\n",
              "              title=\"Convert this dataframe to an interactive table.\"\n",
              "              style=\"display:none;\">\n",
              "        \n",
              "  <svg xmlns=\"http://www.w3.org/2000/svg\" height=\"24px\"viewBox=\"0 0 24 24\"\n",
              "       width=\"24px\">\n",
              "    <path d=\"M0 0h24v24H0V0z\" fill=\"none\"/>\n",
              "    <path d=\"M18.56 5.44l.94 2.06.94-2.06 2.06-.94-2.06-.94-.94-2.06-.94 2.06-2.06.94zm-11 1L8.5 8.5l.94-2.06 2.06-.94-2.06-.94L8.5 2.5l-.94 2.06-2.06.94zm10 10l.94 2.06.94-2.06 2.06-.94-2.06-.94-.94-2.06-.94 2.06-2.06.94z\"/><path d=\"M17.41 7.96l-1.37-1.37c-.4-.4-.92-.59-1.43-.59-.52 0-1.04.2-1.43.59L10.3 9.45l-7.72 7.72c-.78.78-.78 2.05 0 2.83L4 21.41c.39.39.9.59 1.41.59.51 0 1.02-.2 1.41-.59l7.78-7.78 2.81-2.81c.8-.78.8-2.07 0-2.86zM5.41 20L4 18.59l7.72-7.72 1.47 1.35L5.41 20z\"/>\n",
              "  </svg>\n",
              "      </button>\n",
              "      \n",
              "  <style>\n",
              "    .colab-df-container {\n",
              "      display:flex;\n",
              "      flex-wrap:wrap;\n",
              "      gap: 12px;\n",
              "    }\n",
              "\n",
              "    .colab-df-convert {\n",
              "      background-color: #E8F0FE;\n",
              "      border: none;\n",
              "      border-radius: 50%;\n",
              "      cursor: pointer;\n",
              "      display: none;\n",
              "      fill: #1967D2;\n",
              "      height: 32px;\n",
              "      padding: 0 0 0 0;\n",
              "      width: 32px;\n",
              "    }\n",
              "\n",
              "    .colab-df-convert:hover {\n",
              "      background-color: #E2EBFA;\n",
              "      box-shadow: 0px 1px 2px rgba(60, 64, 67, 0.3), 0px 1px 3px 1px rgba(60, 64, 67, 0.15);\n",
              "      fill: #174EA6;\n",
              "    }\n",
              "\n",
              "    [theme=dark] .colab-df-convert {\n",
              "      background-color: #3B4455;\n",
              "      fill: #D2E3FC;\n",
              "    }\n",
              "\n",
              "    [theme=dark] .colab-df-convert:hover {\n",
              "      background-color: #434B5C;\n",
              "      box-shadow: 0px 1px 3px 1px rgba(0, 0, 0, 0.15);\n",
              "      filter: drop-shadow(0px 1px 2px rgba(0, 0, 0, 0.3));\n",
              "      fill: #FFFFFF;\n",
              "    }\n",
              "  </style>\n",
              "\n",
              "      <script>\n",
              "        const buttonEl =\n",
              "          document.querySelector('#df-d7a81280-baa0-440e-aeb1-9810d8974314 button.colab-df-convert');\n",
              "        buttonEl.style.display =\n",
              "          google.colab.kernel.accessAllowed ? 'block' : 'none';\n",
              "\n",
              "        async function convertToInteractive(key) {\n",
              "          const element = document.querySelector('#df-d7a81280-baa0-440e-aeb1-9810d8974314');\n",
              "          const dataTable =\n",
              "            await google.colab.kernel.invokeFunction('convertToInteractive',\n",
              "                                                     [key], {});\n",
              "          if (!dataTable) return;\n",
              "\n",
              "          const docLinkHtml = 'Like what you see? Visit the ' +\n",
              "            '<a target=\"_blank\" href=https://colab.research.google.com/notebooks/data_table.ipynb>data table notebook</a>'\n",
              "            + ' to learn more about interactive tables.';\n",
              "          element.innerHTML = '';\n",
              "          dataTable['output_type'] = 'display_data';\n",
              "          await google.colab.output.renderOutput(dataTable, element);\n",
              "          const docLink = document.createElement('div');\n",
              "          docLink.innerHTML = docLinkHtml;\n",
              "          element.appendChild(docLink);\n",
              "        }\n",
              "      </script>\n",
              "    </div>\n",
              "  </div>\n",
              "  "
            ]
          },
          "metadata": {},
          "execution_count": 159
        }
      ]
    },
    {
      "cell_type": "code",
      "source": [
        ""
      ],
      "metadata": {
        "id": "qraQaMl9768L"
      },
      "execution_count": null,
      "outputs": []
    }
  ]
}